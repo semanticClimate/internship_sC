{
  "nbformat": 4,
  "nbformat_minor": 0,
  "metadata": {
    "colab": {
      "provenance": []
    },
    "kernelspec": {
      "name": "python3",
      "display_name": "Python 3"
    },
    "language_info": {
      "name": "python"
    }
  },
  "cells": [
    {
      "cell_type": "code",
      "execution_count": 1,
      "metadata": {
        "colab": {
          "base_uri": "https://localhost:8080/"
        },
        "id": "vy9UTv-DLkxA",
        "outputId": "ba49eb17-9125-43c8-be31-16ca5f018c64"
      },
      "outputs": [
        {
          "output_type": "stream",
          "name": "stdout",
          "text": [
            "\u001b[?25l     \u001b[90m━━━━━━━━━━━━━━━━━━━━━━━━━━━━━━━━━━━━━━━━\u001b[0m \u001b[32m0.0/324.0 kB\u001b[0m \u001b[31m?\u001b[0m eta \u001b[36m-:--:--\u001b[0m\r\u001b[2K     \u001b[90m━━━━━━━━━━━━━━━━━━━━━━━━━━━━━━━━━━━━━━\u001b[0m \u001b[32m324.0/324.0 kB\u001b[0m \u001b[31m10.7 MB/s\u001b[0m eta \u001b[36m0:00:00\u001b[0m\n",
            "\u001b[?25h  Preparing metadata (setup.py) ... \u001b[?25l\u001b[?25hdone\n",
            "\u001b[2K     \u001b[90m━━━━━━━━━━━━━━━━━━━━━━━━━━━━━━━━━━━━━━━━\u001b[0m \u001b[32m5.0/5.0 MB\u001b[0m \u001b[31m33.5 MB/s\u001b[0m eta \u001b[36m0:00:00\u001b[0m\n",
            "\u001b[?25h  Preparing metadata (setup.py) ... \u001b[?25l\u001b[?25hdone\n",
            "\u001b[2K     \u001b[90m━━━━━━━━━━━━━━━━━━━━━━━━━━━━━━━━━━━━━━━\u001b[0m \u001b[32m42.8/42.8 kB\u001b[0m \u001b[31m973.8 kB/s\u001b[0m eta \u001b[36m0:00:00\u001b[0m\n",
            "\u001b[2K     \u001b[90m━━━━━━━━━━━━━━━━━━━━━━━━━━━━━━━━━━━━━━━━\u001b[0m \u001b[32m87.8/87.8 kB\u001b[0m \u001b[31m4.4 MB/s\u001b[0m eta \u001b[36m0:00:00\u001b[0m\n",
            "\u001b[?25h  Preparing metadata (setup.py) ... \u001b[?25l\u001b[?25hdone\n",
            "\u001b[2K     \u001b[90m━━━━━━━━━━━━━━━━━━━━━━━━━━━━━━━━━━━━━━━━\u001b[0m \u001b[32m48.2/48.2 kB\u001b[0m \u001b[31m3.7 MB/s\u001b[0m eta \u001b[36m0:00:00\u001b[0m\n",
            "\u001b[2K   \u001b[90m━━━━━━━━━━━━━━━━━━━━━━━━━━━━━━━━━━━━━━━━\u001b[0m \u001b[32m60.0/60.0 kB\u001b[0m \u001b[31m3.5 MB/s\u001b[0m eta \u001b[36m0:00:00\u001b[0m\n",
            "\u001b[2K   \u001b[90m━━━━━━━━━━━━━━━━━━━━━━━━━━━━━━━━━━━━━━━━\u001b[0m \u001b[32m5.6/5.6 MB\u001b[0m \u001b[31m92.3 MB/s\u001b[0m eta \u001b[36m0:00:00\u001b[0m\n",
            "\u001b[2K   \u001b[90m━━━━━━━━━━━━━━━━━━━━━━━━━━━━━━━━━━━━━━━━\u001b[0m \u001b[32m756.0/756.0 kB\u001b[0m \u001b[31m38.9 MB/s\u001b[0m eta \u001b[36m0:00:00\u001b[0m\n",
            "\u001b[2K   \u001b[90m━━━━━━━━━━━━━━━━━━━━━━━━━━━━━━━━━━━━━━━━\u001b[0m \u001b[32m9.4/9.4 MB\u001b[0m \u001b[31m86.0 MB/s\u001b[0m eta \u001b[36m0:00:00\u001b[0m\n",
            "\u001b[2K   \u001b[90m━━━━━━━━━━━━━━━━━━━━━━━━━━━━━━━━━━━━━━━━\u001b[0m \u001b[32m155.4/155.4 kB\u001b[0m \u001b[31m10.7 MB/s\u001b[0m eta \u001b[36m0:00:00\u001b[0m\n",
            "\u001b[2K   \u001b[90m━━━━━━━━━━━━━━━━━━━━━━━━━━━━━━━━━━━━━━━━\u001b[0m \u001b[32m2.9/2.9 MB\u001b[0m \u001b[31m72.3 MB/s\u001b[0m eta \u001b[36m0:00:00\u001b[0m\n",
            "\u001b[2K   \u001b[90m━━━━━━━━━━━━━━━━━━━━━━━━━━━━━━━━━━━━━━━━\u001b[0m \u001b[32m565.1/565.1 kB\u001b[0m \u001b[31m23.3 MB/s\u001b[0m eta \u001b[36m0:00:00\u001b[0m\n",
            "\u001b[2K   \u001b[90m━━━━━━━━━━━━━━━━━━━━━━━━━━━━━━━━━━━━━━━━\u001b[0m \u001b[32m499.2/499.2 kB\u001b[0m \u001b[31m18.8 MB/s\u001b[0m eta \u001b[36m0:00:00\u001b[0m\n",
            "\u001b[2K   \u001b[90m━━━━━━━━━━━━━━━━━━━━━━━━━━━━━━━━━━━━━━━━\u001b[0m \u001b[32m2.3/2.3 MB\u001b[0m \u001b[31m61.3 MB/s\u001b[0m eta \u001b[36m0:00:00\u001b[0m\n",
            "\u001b[2K   \u001b[90m━━━━━━━━━━━━━━━━━━━━━━━━━━━━━━━━━━━━━━━━\u001b[0m \u001b[32m171.3/171.3 kB\u001b[0m \u001b[31m9.4 MB/s\u001b[0m eta \u001b[36m0:00:00\u001b[0m\n",
            "\u001b[2K   \u001b[90m━━━━━━━━━━━━━━━━━━━━━━━━━━━━━━━━━━━━━━━━\u001b[0m \u001b[32m1.6/1.6 MB\u001b[0m \u001b[31m56.4 MB/s\u001b[0m eta \u001b[36m0:00:00\u001b[0m\n",
            "\u001b[?25h  Building wheel for amilib (setup.py) ... \u001b[?25l\u001b[?25hdone\n",
            "  Building wheel for pdfminer3 (setup.py) ... \u001b[?25l\u001b[?25hdone\n",
            "  Building wheel for tinycss (setup.py) ... \u001b[?25l\u001b[?25hdone\n"
          ]
        }
      ],
      "source": [
        "!pip install --quiet amilib==0.3.9\n"
      ]
    },
    {
      "cell_type": "code",
      "source": [
        "import urllib.request\n",
        "\n",
        "# Replace this URL with your actual raw GitHub file URL\n",
        "url = 'https://raw.githubusercontent.com/semanticClimate/internship_sC/refs/heads/Anushka/Keyword_Extraction/IPCC-Ch08-Wordlist'\n",
        "output_path = '/content/words_chap08.txt'\n",
        "\n",
        "urllib.request.urlretrieve(url, output_path)\n",
        "\n",
        "print(\"✅ Keyword file downloaded!\")\n"
      ],
      "metadata": {
        "colab": {
          "base_uri": "https://localhost:8080/"
        },
        "id": "S7ZflISOL1zF",
        "outputId": "2aadc127-bacc-47f9-93f2-41f1052f1f68"
      },
      "execution_count": 2,
      "outputs": [
        {
          "output_type": "stream",
          "name": "stdout",
          "text": [
            "✅ Keyword file downloaded!\n"
          ]
        }
      ]
    },
    {
      "cell_type": "code",
      "source": [
        "!amilib DICT \\\n",
        "--words /content/words_chap08.txt \\\n",
        "--description wikipedia \\\n",
        "--dict wg1chap08_dict.html \\\n",
        "--operation create\n"
      ],
      "metadata": {
        "colab": {
          "base_uri": "https://localhost:8080/"
        },
        "id": "hx5lyFrlL7FF",
        "outputId": "2890192e-5609-4e7b-d8aa-99fde4a1782d"
      },
      "execution_count": 4,
      "outputs": [
        {
          "output_type": "stream",
          "name": "stdout",
          "text": [
            "INFO amix.py:555:***** amilib VERSION 0.3.9 *****\n",
            "INFO:amilib.amix:***** amilib VERSION 0.3.9 *****\n",
            "INFO amix.py:170:command: ['DICT', '--words', '/content/words_chap08.txt', '--description', 'wikipedia', '--dict', 'wg1chap08_dict.html', '--operation', 'create']\n",
            "INFO:amilib.amix:command: ['DICT', '--words', '/content/words_chap08.txt', '--description', 'wikipedia', '--dict', 'wg1chap08_dict.html', '--operation', 'create']\n",
            "DEBUG dict_args.py:52:creating HTML Args\n",
            "DEBUG:amilib.dict_args:creating HTML Args\n",
            "DEBUG dict_args.py:52:creating HTML Args\n",
            "DEBUG:amilib.dict_args:creating HTML Args\n",
            "DEBUG dict_args.py:123:DICT process_args {'version': False, 'command': 'DICT', 'description': 'wikipedia', 'dict': 'wg1chap08_dict.html', 'figures': 'None', 'operation': 'create', 'title': 'unknown', 'validate': False, 'words': '/content/words_chap08.txt'}\n",
            "DEBUG:amilib.dict_args:DICT process_args {'version': False, 'command': 'DICT', 'description': 'wikipedia', 'dict': 'wg1chap08_dict.html', 'figures': 'None', 'operation': 'create', 'title': 'unknown', 'validate': False, 'words': '/content/words_chap08.txt'}\n",
            "DEBUG file_lib.py:577:strings_in <class 'str'> .. /content/words_chap08.txt\n",
            "DEBUG:amilib.file_lib:strings_in <class 'str'> .. /content/words_chap08.txt\n",
            "DEBUG file_lib.py:580:after literal eval strings_in <class 'str'> .. /content/words_chap08.txt\n",
            "DEBUG:amilib.file_lib:after literal eval strings_in <class 'str'> .. /content/words_chap08.txt\n",
            "INFO dict_args.py:252:creating dictionary from ['climate', 'precipitation', 'atmospheric']...\n",
            "INFO:amilib.dict_args:creating dictionary from ['climate', 'precipitation', 'atmospheric']...\n",
            "INFO ami_dict.py:857:duplicate term: Snow ignored \n",
            "INFO:amilib.ami_dict:duplicate term: Snow ignored \n",
            "wrote: /content/wg1chap08_dict.html\n",
            "DEBUG ami_dict.py:1224:wrote dictionary unknown to wg1chap08_dict.html\n",
            "DEBUG:amilib.ami_dict:wrote dictionary unknown to wg1chap08_dict.html\n",
            "wrote: /content/wg1chap08_dict.html\n",
            "DEBUG ami_dict.py:1224:wrote dictionary unknown to wg1chap08_dict.html\n",
            "DEBUG:amilib.ami_dict:wrote dictionary unknown to wg1chap08_dict.html\n"
          ]
        }
      ]
    },
    {
      "cell_type": "code",
      "source": [
        "from IPython.core.display import display, HTML\n",
        "\n",
        "html_file_path = '/content/wg1chap08_dict.html'\n",
        "\n",
        "with open(html_file_path, 'r', encoding='utf-8') as file:\n",
        "    html_content = file.read()\n",
        "\n",
        "display(HTML(html_content))"
      ],
      "metadata": {
        "colab": {
          "base_uri": "https://localhost:8080/",
          "height": 1000
        },
        "id": "MXod6ttKMGHl",
        "outputId": "af8bd198-b33c-4a9d-c440-351e5abfae3a"
      },
      "execution_count": 5,
      "outputs": [
        {
          "output_type": "display_data",
          "data": {
            "text/plain": [
              "<IPython.core.display.HTML object>"
            ],
            "text/html": [
              "<html><head><style>div[role] {border:solid 1px;margin:1px;}</style><base href=\"https://en.wikipedia.org/wiki/\"></head><body><div role=\"ami_dictionary\" title=\"wg1chap08_dict\"><div name=\"climate\" term=\"climate\" role=\"ami_entry\"><p>search term:  climate <a href=\"https://en.wikipedia.org/w/index.php?search=climate\">Wikipedia Page</a></p><p></p></div><div name=\"precipitation\" term=\"precipitation\" role=\"ami_entry\"><p>search term:  precipitation <a href=\"https://en.wikipedia.org/w/index.php?search=precipitation\">Wikipedia Page</a></p><p></p></div><div name=\"atmospheric\" term=\"atmospheric\" role=\"ami_entry\"><p>search term:  atmospheric <a href=\"https://en.wikipedia.org/w/index.php?search=atmospheric\">Wikipedia Page</a></p><p></p></div><div name=\"rainfall\" term=\"rainfall\" role=\"ami_entry\"><p>search term:  rainfall <a href=\"https://en.wikipedia.org/w/index.php?search=rainfall\">Wikipedia Page</a></p><p></p></div><div name=\"geophysical\" term=\"geophysical\" role=\"ami_entry\"><p>search term:  geophysical <a href=\"https://en.wikipedia.org/w/index.php?search=geophysical\">Wikipedia Page</a></p><p></p></div><div name=\"surface\" term=\"surface\" role=\"ami_entry\"><p>search term:  surface <a href=\"https://en.wikipedia.org/w/index.php?search=surface\">Wikipedia Page</a></p><p></p></div><div name=\"section\" term=\"section\" role=\"ami_entry\"><p>search term:  section <a href=\"https://en.wikipedia.org/w/index.php?search=section\">Wikipedia Page</a></p><p></p></div><div name=\"south\" term=\"south\" role=\"ami_entry\"><p>search term:  south <a href=\"https://en.wikipedia.org/w/index.php?search=south\">Wikipedia Page</a></p><p></p></div><div name=\"tropical\" term=\"tropical\" role=\"ami_entry\"><p>search term:  tropical <a href=\"https://en.wikipedia.org/w/index.php?search=tropical\">Wikipedia Page</a></p><p></p></div><div name=\"Water Cycle\" term=\"Water Cycle\" role=\"ami_entry\"><p>search term:  Water Cycle <a href=\"https://en.wikipedia.org/w/index.php?search=Water%20Cycle\">Wikipedia Page</a></p><p></p></div><div name=\"moisture\" term=\"moisture\" role=\"ami_entry\"><p>search term:  moisture <a href=\"https://en.wikipedia.org/w/index.php?search=moisture\">Wikipedia Page</a></p><p></p></div><div name=\"circulation\" term=\"circulation\" role=\"ami_entry\"><p>search term:  circulation <a href=\"https://en.wikipedia.org/w/index.php?search=circulation\">Wikipedia Page</a></p><p></p></div><div name=\"projections\" term=\"projections\" role=\"ami_entry\"><p>search term:  projections <a href=\"https://en.wikipedia.org/w/index.php?search=projections\">Wikipedia Page</a></p><p></p></div><div name=\"summer\" term=\"summer\" role=\"ami_entry\"><p>search term:  summer <a href=\"https://en.wikipedia.org/w/index.php?search=summer\">Wikipedia Page</a></p><p></p></div><div name=\"drought\" term=\"drought\" role=\"ami_entry\"><p>search term:  drought <a href=\"https://en.wikipedia.org/w/index.php?search=drought\">Wikipedia Page</a></p><p></p></div><div name=\"anthropogenic\" term=\"anthropogenic\" role=\"ami_entry\"><p>search term:  anthropogenic <a href=\"https://en.wikipedia.org/w/index.php?search=anthropogenic\">Wikipedia Page</a></p><p></p></div><div name=\"scale\" term=\"scale\" role=\"ami_entry\"><p>search term:  scale <a href=\"https://en.wikipedia.org/w/index.php?search=scale\">Wikipedia Page</a></p><p></p></div><div name=\"earth\" term=\"earth\" role=\"ami_entry\"><p>search term:  earth <a href=\"https://en.wikipedia.org/w/index.php?search=earth\">Wikipedia Page</a></p><p></p></div><div name=\"southern\" term=\"southern\" role=\"ami_entry\"><p>search term:  southern <a href=\"https://en.wikipedia.org/w/index.php?search=southern\">Wikipedia Page</a></p><p></p></div><div name=\"century\" term=\"century\" role=\"ami_entry\"><p>search term:  century <a href=\"https://en.wikipedia.org/w/index.php?search=century\">Wikipedia Page</a></p><p></p></div><div name=\"temperature\" term=\"temperature\" role=\"ami_entry\"><p>search term:  temperature <a href=\"https://en.wikipedia.org/w/index.php?search=temperature\">Wikipedia Page</a></p><p></p></div><div name=\"ocean\" term=\"ocean\" role=\"ami_entry\"><p>search term:  ocean <a href=\"https://en.wikipedia.org/w/index.php?search=ocean\">Wikipedia Page</a></p><p></p></div><div name=\"groundwater\" term=\"groundwater\" role=\"ami_entry\"><p>search term:  groundwater <a href=\"https://en.wikipedia.org/w/index.php?search=groundwater\">Wikipedia Page</a></p><p></p></div><div name=\"northern\" term=\"northern\" role=\"ami_entry\"><p>search term:  northern <a href=\"https://en.wikipedia.org/w/index.php?search=northern\">Wikipedia Page</a></p><p></p></div><div name=\"aerosol\" term=\"aerosol\" role=\"ami_entry\"><p>search term:  aerosol <a href=\"https://en.wikipedia.org/w/index.php?search=aerosol\">Wikipedia Page</a></p><p></p></div><div name=\"extreme\" term=\"extreme\" role=\"ami_entry\"><p>search term:  extreme <a href=\"https://en.wikipedia.org/w/index.php?search=extreme\">Wikipedia Page</a></p><p></p></div><div name=\"soil\" term=\"soil\" role=\"ami_entry\"><p>search term:  soil <a href=\"https://en.wikipedia.org/w/index.php?search=soil\">Wikipedia Page</a></p><p></p></div><div name=\"influence\" term=\"influence\" role=\"ami_entry\"><p>search term:  influence <a href=\"https://en.wikipedia.org/w/index.php?search=influence\">Wikipedia Page</a></p><p></p></div><div name=\"snow\" term=\"snow\" role=\"ami_entry\"><p>search term:  snow <a href=\"https://en.wikipedia.org/w/index.php?search=snow\">Wikipedia Page</a></p><p></p></div><div name=\"hydrological\" term=\"hydrological\" role=\"ami_entry\"><p>search term:  hydrological <a href=\"https://en.wikipedia.org/w/index.php?search=hydrological\">Wikipedia Page</a></p><p></p></div><div name=\"hemisphere\" term=\"hemisphere\" role=\"ami_entry\"><p>search term:  hemisphere <a href=\"https://en.wikipedia.org/w/index.php?search=hemisphere\">Wikipedia Page</a></p><p></p></div><div name=\"sciences\" term=\"sciences\" role=\"ami_entry\"><p>search term:  sciences <a href=\"https://en.wikipedia.org/w/index.php?search=sciences\">Wikipedia Page</a></p><p></p></div><div name=\"emissions\" term=\"emissions\" role=\"ami_entry\"><p>search term:  emissions <a href=\"https://en.wikipedia.org/w/index.php?search=emissions\">Wikipedia Page</a></p><p></p></div><div name=\"studies\" term=\"studies\" role=\"ami_entry\"><p>search term:  studies <a href=\"https://en.wikipedia.org/w/index.php?search=studies\">Wikipedia Page</a></p><p></p></div><div name=\"impacts\" term=\"impacts\" role=\"ami_entry\"><p>search term:  impacts <a href=\"https://en.wikipedia.org/w/index.php?search=impacts\">Wikipedia Page</a></p><p></p></div><div name=\"intensity\" term=\"intensity\" role=\"ami_entry\"><p>search term:  intensity <a href=\"https://en.wikipedia.org/w/index.php?search=intensity\">Wikipedia Page</a></p><p></p></div><div name=\"assessment\" term=\"assessment\" role=\"ami_entry\"><p>search term:  assessment <a href=\"https://en.wikipedia.org/w/index.php?search=assessment\">Wikipedia Page</a></p><p></p></div><div name=\"annual\" term=\"annual\" role=\"ami_entry\"><p>search term:  annual <a href=\"https://en.wikipedia.org/w/index.php?search=annual\">Wikipedia Page</a></p><p></p></div><div name=\"river\" term=\"river\" role=\"ami_entry\"><p>search term:  river <a href=\"https://en.wikipedia.org/w/index.php?search=river\">Wikipedia Page</a></p><p></p></div><div name=\"patterns\" term=\"patterns\" role=\"ami_entry\"><p>search term:  patterns <a href=\"https://en.wikipedia.org/w/index.php?search=patterns\">Wikipedia Page</a></p><p></p></div><div name=\"seasonal\" term=\"seasonal\" role=\"ami_entry\"><p>search term:  seasonal <a href=\"https://en.wikipedia.org/w/index.php?search=seasonal\">Wikipedia Page</a></p><p></p></div><div name=\"extremes\" term=\"extremes\" role=\"ami_entry\"><p>search term:  extremes <a href=\"https://en.wikipedia.org/w/index.php?search=extremes\">Wikipedia Page</a></p><p></p></div><div name=\"cloud\" term=\"cloud\" role=\"ami_entry\"><p>search term:  cloud <a href=\"https://en.wikipedia.org/w/index.php?search=cloud\">Wikipedia Page</a></p><p></p></div><div name=\"winter\" term=\"winter\" role=\"ami_entry\"><p>search term:  winter <a href=\"https://en.wikipedia.org/w/index.php?search=winter\">Wikipedia Page</a></p><p></p></div><div name=\"eastern\" term=\"eastern\" role=\"ami_entry\"><p>search term:  eastern <a href=\"https://en.wikipedia.org/w/index.php?search=eastern\">Wikipedia Page</a></p><p></p></div><div name=\"convective\" term=\"convective\" role=\"ami_entry\"><p>search term:  convective <a href=\"https://en.wikipedia.org/w/index.php?search=convective\">Wikipedia Page</a></p><p></p></div><div name=\"atmosphere\" term=\"atmosphere\" role=\"ami_entry\"><p>search term:  atmosphere <a href=\"https://en.wikipedia.org/w/index.php?search=atmosphere\">Wikipedia Page</a></p><p></p></div><div name=\"evapotranspiration\" term=\"evapotranspiration\" role=\"ami_entry\"><p>search term:  evapotranspiration <a href=\"https://en.wikipedia.org/w/index.php?search=evapotranspiration\">Wikipedia Page</a></p><p></p></div><div name=\"storm\" term=\"storm\" role=\"ami_entry\"><p>search term:  storm <a href=\"https://en.wikipedia.org/w/index.php?search=storm\">Wikipedia Page</a></p><p></p></div><div name=\"radiative\" term=\"radiative\" role=\"ami_entry\"><p>search term:  radiative <a href=\"https://en.wikipedia.org/w/index.php?search=radiative\">Wikipedia Page</a></p><p></p></div><div name=\"vegetation\" term=\"vegetation\" role=\"ami_entry\"><p>search term:  vegetation <a href=\"https://en.wikipedia.org/w/index.php?search=vegetation\">Wikipedia Page</a></p><p></p></div><div name=\"climatology\" term=\"climatology\" role=\"ami_entry\"><p>search term:  climatology <a href=\"https://en.wikipedia.org/w/index.php?search=climatology\">Wikipedia Page</a></p><p></p></div><div name=\"relative\" term=\"relative\" role=\"ami_entry\"><p>search term:  relative <a href=\"https://en.wikipedia.org/w/index.php?search=relative\">Wikipedia Page</a></p><p></p></div><div name=\"environmental\" term=\"environmental\" role=\"ami_entry\"><p>search term:  environmental <a href=\"https://en.wikipedia.org/w/index.php?search=environmental\">Wikipedia Page</a></p><p></p></div><div name=\"rain\" term=\"rain\" role=\"ami_entry\"><p>search term:  rain <a href=\"https://en.wikipedia.org/w/index.php?search=rain\">Wikipedia Page</a></p><p></p></div><div name=\"period\" term=\"period\" role=\"ami_entry\"><p>search term:  period <a href=\"https://en.wikipedia.org/w/index.php?search=period\">Wikipedia Page</a></p><p></p></div><div name=\"evaporation\" term=\"evaporation\" role=\"ami_entry\"><p>search term:  evaporation <a href=\"https://en.wikipedia.org/w/index.php?search=evaporation\">Wikipedia Page</a></p><p></p></div><div name=\"sensitivity\" term=\"sensitivity\" role=\"ami_entry\"><p>search term:  sensitivity <a href=\"https://en.wikipedia.org/w/index.php?search=sensitivity\">Wikipedia Page</a></p><p></p></div><div name=\"extratropical\" term=\"extratropical\" role=\"ami_entry\"><p>search term:  extratropical <a href=\"https://en.wikipedia.org/w/index.php?search=extratropical\">Wikipedia Page</a></p><p></p></div><div name=\"energy\" term=\"energy\" role=\"ami_entry\"><p>search term:  energy <a href=\"https://en.wikipedia.org/w/index.php?search=energy\">Wikipedia Page</a></p><p></p></div><div name=\"mediterranean\" term=\"mediterranean\" role=\"ami_entry\"><p>search term:  mediterranean <a href=\"https://en.wikipedia.org/w/index.php?search=mediterranean\">Wikipedia Page</a></p><p></p></div><div name=\"streamflow\" term=\"streamflow\" role=\"ami_entry\"><p>search term:  streamflow <a href=\"https://en.wikipedia.org/w/index.php?search=streamflow\">Wikipedia Page</a></p><p></p></div><div name=\"drying\" term=\"drying\" role=\"ami_entry\"><p>search term:  drying <a href=\"https://en.wikipedia.org/w/index.php?search=drying\">Wikipedia Page</a></p><p></p></div><div name=\"flooding\" term=\"flooding\" role=\"ami_entry\"><p>search term:  flooding <a href=\"https://en.wikipedia.org/w/index.php?search=flooding\">Wikipedia Page</a></p><p></p></div><div name=\"greenhouse\" term=\"greenhouse\" role=\"ami_entry\"><p>search term:  greenhouse <a href=\"https://en.wikipedia.org/w/index.php?search=greenhouse\">Wikipedia Page</a></p><p></p></div><div name=\"cyclones\" term=\"cyclones\" role=\"ami_entry\"><p>search term:  cyclones <a href=\"https://en.wikipedia.org/w/index.php?search=cyclones\">Wikipedia Page</a></p><p></p></div><div name=\"latitude\" term=\"latitude\" role=\"ami_entry\"><p>search term:  latitude <a href=\"https://en.wikipedia.org/w/index.php?search=latitude\">Wikipedia Page</a></p><p></p></div><div name=\"level\" term=\"level\" role=\"ami_entry\"><p>search term:  level <a href=\"https://en.wikipedia.org/w/index.php?search=level\">Wikipedia Page</a></p><p></p></div><div name=\"areas\" term=\"areas\" role=\"ami_entry\"><p>search term:  areas <a href=\"https://en.wikipedia.org/w/index.php?search=areas\">Wikipedia Page</a></p><p></p></div><div name=\"weather\" term=\"weather\" role=\"ami_entry\"><p>search term:  weather <a href=\"https://en.wikipedia.org/w/index.php?search=weather\">Wikipedia Page</a></p><p></p></div><div name=\"glacier\" term=\"glacier\" role=\"ami_entry\"><p>search term:  glacier <a href=\"https://en.wikipedia.org/w/index.php?search=glacier\">Wikipedia Page</a></p><p></p></div><div name=\"meteorological\" term=\"meteorological\" role=\"ami_entry\"><p>search term:  meteorological <a href=\"https://en.wikipedia.org/w/index.php?search=meteorological\">Wikipedia Page</a></p><p></p></div><div name=\"seasonality\" term=\"seasonality\" role=\"ami_entry\"><p>search term:  seasonality <a href=\"https://en.wikipedia.org/w/index.php?search=seasonality\">Wikipedia Page</a></p><p></p></div><div name=\"range\" term=\"range\" role=\"ami_entry\"><p>search term:  range <a href=\"https://en.wikipedia.org/w/index.php?search=range\">Wikipedia Page</a></p><p></p></div><div name=\"subtropical\" term=\"subtropical\" role=\"ami_entry\"><p>search term:  subtropical <a href=\"https://en.wikipedia.org/w/index.php?search=subtropical\">Wikipedia Page</a></p><p></p></div><div name=\"terrestrial\" term=\"terrestrial\" role=\"ami_entry\"><p>search term:  terrestrial <a href=\"https://en.wikipedia.org/w/index.php?search=terrestrial\">Wikipedia Page</a></p><p></p></div><div name=\"multi\" term=\"multi\" role=\"ami_entry\"><p>search term:  multi <a href=\"https://en.wikipedia.org/w/index.php?search=multi\">Wikipedia Page</a></p><p></p></div><div name=\"magnitude\" term=\"magnitude\" role=\"ami_entry\"><p>search term:  magnitude <a href=\"https://en.wikipedia.org/w/index.php?search=magnitude\">Wikipedia Page</a></p><p></p></div><div name=\"spatial\" term=\"spatial\" role=\"ami_entry\"><p>search term:  spatial <a href=\"https://en.wikipedia.org/w/index.php?search=spatial\">Wikipedia Page</a></p><p></p></div><div name=\"abrupt\" term=\"abrupt\" role=\"ami_entry\"><p>search term:  abrupt <a href=\"https://en.wikipedia.org/w/index.php?search=abrupt\">Wikipedia Page</a></p><p></p></div><div name=\"resources\" term=\"resources\" role=\"ami_entry\"><p>search term:  resources <a href=\"https://en.wikipedia.org/w/index.php?search=resources\">Wikipedia Page</a></p><p></p></div><div name=\"vapour\" term=\"vapour\" role=\"ami_entry\"><p>search term:  vapour <a href=\"https://en.wikipedia.org/w/index.php?search=vapour\">Wikipedia Page</a></p><p></p></div><div name=\"uncertainties\" term=\"uncertainties\" role=\"ami_entry\"><p>search term:  uncertainties <a href=\"https://en.wikipedia.org/w/index.php?search=uncertainties\">Wikipedia Page</a></p><p></p></div><div name=\"hydrology\" term=\"hydrology\" role=\"ami_entry\"><p>search term:  hydrology <a href=\"https://en.wikipedia.org/w/index.php?search=hydrology\">Wikipedia Page</a></p><p></p></div><div name=\"oscillation\" term=\"oscillation\" role=\"ami_entry\"><p>search term:  oscillation <a href=\"https://en.wikipedia.org/w/index.php?search=oscillation\">Wikipedia Page</a></p><p></p></div><div name=\"intensification\" term=\"intensification\" role=\"ami_entry\"><p>search term:  intensification <a href=\"https://en.wikipedia.org/w/index.php?search=intensification\">Wikipedia Page</a></p><p></p></div><div name=\"poleward\" term=\"poleward\" role=\"ami_entry\"><p>search term:  poleward <a href=\"https://en.wikipedia.org/w/index.php?search=poleward\">Wikipedia Page</a></p><p></p></div><div name=\"international\" term=\"international\" role=\"ami_entry\"><p>search term:  international <a href=\"https://en.wikipedia.org/w/index.php?search=international\">Wikipedia Page</a></p><p></p></div><div name=\"decline\" term=\"decline\" role=\"ami_entry\"><p>search term:  decline <a href=\"https://en.wikipedia.org/w/index.php?search=decline\">Wikipedia Page</a></p><p></p></div><div name=\"aridity\" term=\"aridity\" role=\"ami_entry\"><p>search term:  aridity <a href=\"https://en.wikipedia.org/w/index.php?search=aridity\">Wikipedia Page</a></p><p></p></div><div name=\"geoscience\" term=\"geoscience\" role=\"ami_entry\"><p>search term:  geoscience <a href=\"https://en.wikipedia.org/w/index.php?search=geoscience\">Wikipedia Page</a></p><p></p></div><div name=\"monsoons\" term=\"monsoons\" role=\"ami_entry\"><p>search term:  monsoons <a href=\"https://en.wikipedia.org/w/index.php?search=monsoons\">Wikipedia Page</a></p><p></p></div><div name=\"pattern\" term=\"pattern\" role=\"ami_entry\"><p>search term:  pattern <a href=\"https://en.wikipedia.org/w/index.php?search=pattern\">Wikipedia Page</a></p><p></p></div><div name=\"thermodynamic\" term=\"thermodynamic\" role=\"ami_entry\"><p>search term:  thermodynamic <a href=\"https://en.wikipedia.org/w/index.php?search=thermodynamic\">Wikipedia Page</a></p><p></p></div><div name=\"satellite\" term=\"satellite\" role=\"ami_entry\"><p>search term:  satellite <a href=\"https://en.wikipedia.org/w/index.php?search=satellite\">Wikipedia Page</a></p><p></p></div><div name=\"modeling\" term=\"modeling\" role=\"ami_entry\"><p>search term:  modeling <a href=\"https://en.wikipedia.org/w/index.php?search=modeling\">Wikipedia Page</a></p><p></p></div><div name=\"paleoclimate\" term=\"paleoclimate\" role=\"ami_entry\"><p>search term:  paleoclimate <a href=\"https://en.wikipedia.org/w/index.php?search=paleoclimate\">Wikipedia Page</a></p><p></p></div><div name=\"humidity\" term=\"humidity\" role=\"ami_entry\"><p>search term:  humidity <a href=\"https://en.wikipedia.org/w/index.php?search=humidity\">Wikipedia Page</a></p><p></p></div><div name=\"Global Warming\" term=\"Global Warming\" role=\"ami_entry\"><p>search term:  Global Warming <a href=\"https://en.wikipedia.org/w/index.php?search=Global%20Warming\">Wikipedia Page</a></p><p></p></div></div></body></html>"
            ]
          },
          "metadata": {}
        }
      ]
    }
  ]
}