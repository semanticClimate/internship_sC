{
  "nbformat": 4,
  "nbformat_minor": 0,
  "metadata": {
    "colab": {
      "provenance": []
    },
    "kernelspec": {
      "name": "python3",
      "display_name": "Python 3"
    },
    "language_info": {
      "name": "python"
    }
  },
  "cells": [
    {
      "cell_type": "code",
      "execution_count": null,
      "metadata": {
        "colab": {
          "base_uri": "https://localhost:8080/"
        },
        "id": "aVbe1Wa0PUUg",
        "outputId": "cd03a13a-f5e4-4c2a-fed6-6eb65ff513d8"
      },
      "outputs": [
        {
          "output_type": "stream",
          "name": "stdout",
          "text": [
            "\u001b[2K     \u001b[90m━━━━━━━━━━━━━━━━━━━━━━━━━━━━━━━━━━━━━━━\u001b[0m \u001b[32m324.0/324.0 kB\u001b[0m \u001b[31m6.8 MB/s\u001b[0m eta \u001b[36m0:00:00\u001b[0m\n",
            "\u001b[?25h  Preparing metadata (setup.py) ... \u001b[?25l\u001b[?25hdone\n",
            "\u001b[2K     \u001b[90m━━━━━━━━━━━━━━━━━━━━━━━━━━━━━━━━━━━━━━━━\u001b[0m \u001b[32m5.0/5.0 MB\u001b[0m \u001b[31m50.3 MB/s\u001b[0m eta \u001b[36m0:00:00\u001b[0m\n",
            "\u001b[?25h  Preparing metadata (setup.py) ... \u001b[?25l\u001b[?25hdone\n",
            "\u001b[2K     \u001b[90m━━━━━━━━━━━━━━━━━━━━━━━━━━━━━━━━━━━━━━━━\u001b[0m \u001b[32m42.8/42.8 kB\u001b[0m \u001b[31m2.6 MB/s\u001b[0m eta \u001b[36m0:00:00\u001b[0m\n",
            "\u001b[2K     \u001b[90m━━━━━━━━━━━━━━━━━━━━━━━━━━━━━━━━━━━━━━━━\u001b[0m \u001b[32m87.8/87.8 kB\u001b[0m \u001b[31m4.7 MB/s\u001b[0m eta \u001b[36m0:00:00\u001b[0m\n",
            "\u001b[?25h  Preparing metadata (setup.py) ... \u001b[?25l\u001b[?25hdone\n",
            "\u001b[2K     \u001b[90m━━━━━━━━━━━━━━━━━━━━━━━━━━━━━━━━━━━━━━━━\u001b[0m \u001b[32m48.2/48.2 kB\u001b[0m \u001b[31m2.2 MB/s\u001b[0m eta \u001b[36m0:00:00\u001b[0m\n",
            "\u001b[2K   \u001b[90m━━━━━━━━━━━━━━━━━━━━━━━━━━━━━━━━━━━━━━━━\u001b[0m \u001b[32m60.2/60.2 kB\u001b[0m \u001b[31m3.4 MB/s\u001b[0m eta \u001b[36m0:00:00\u001b[0m\n",
            "\u001b[2K   \u001b[90m━━━━━━━━━━━━━━━━━━━━━━━━━━━━━━━━━━━━━━━━\u001b[0m \u001b[32m5.6/5.6 MB\u001b[0m \u001b[31m53.8 MB/s\u001b[0m eta \u001b[36m0:00:00\u001b[0m\n",
            "\u001b[2K   \u001b[90m━━━━━━━━━━━━━━━━━━━━━━━━━━━━━━━━━━━━━━━━\u001b[0m \u001b[32m756.0/756.0 kB\u001b[0m \u001b[31m28.9 MB/s\u001b[0m eta \u001b[36m0:00:00\u001b[0m\n",
            "\u001b[2K   \u001b[90m━━━━━━━━━━━━━━━━━━━━━━━━━━━━━━━━━━━━━━━━\u001b[0m \u001b[32m9.4/9.4 MB\u001b[0m \u001b[31m67.6 MB/s\u001b[0m eta \u001b[36m0:00:00\u001b[0m\n",
            "\u001b[2K   \u001b[90m━━━━━━━━━━━━━━━━━━━━━━━━━━━━━━━━━━━━━━━━\u001b[0m \u001b[32m155.4/155.4 kB\u001b[0m \u001b[31m9.9 MB/s\u001b[0m eta \u001b[36m0:00:00\u001b[0m\n",
            "\u001b[2K   \u001b[90m━━━━━━━━━━━━━━━━━━━━━━━━━━━━━━━━━━━━━━━━\u001b[0m \u001b[32m2.9/2.9 MB\u001b[0m \u001b[31m30.2 MB/s\u001b[0m eta \u001b[36m0:00:00\u001b[0m\n",
            "\u001b[2K   \u001b[90m━━━━━━━━━━━━━━━━━━━━━━━━━━━━━━━━━━━━━━━━\u001b[0m \u001b[32m565.1/565.1 kB\u001b[0m \u001b[31m25.9 MB/s\u001b[0m eta \u001b[36m0:00:00\u001b[0m\n",
            "\u001b[2K   \u001b[90m━━━━━━━━━━━━━━━━━━━━━━━━━━━━━━━━━━━━━━━━\u001b[0m \u001b[32m499.2/499.2 kB\u001b[0m \u001b[31m24.4 MB/s\u001b[0m eta \u001b[36m0:00:00\u001b[0m\n",
            "\u001b[2K   \u001b[90m━━━━━━━━━━━━━━━━━━━━━━━━━━━━━━━━━━━━━━━━\u001b[0m \u001b[32m2.3/2.3 MB\u001b[0m \u001b[31m40.1 MB/s\u001b[0m eta \u001b[36m0:00:00\u001b[0m\n",
            "\u001b[2K   \u001b[90m━━━━━━━━━━━━━━━━━━━━━━━━━━━━━━━━━━━━━━━━\u001b[0m \u001b[32m171.3/171.3 kB\u001b[0m \u001b[31m11.6 MB/s\u001b[0m eta \u001b[36m0:00:00\u001b[0m\n",
            "\u001b[2K   \u001b[90m━━━━━━━━━━━━━━━━━━━━━━━━━━━━━━━━━━━━━━━━\u001b[0m \u001b[32m1.6/1.6 MB\u001b[0m \u001b[31m33.6 MB/s\u001b[0m eta \u001b[36m0:00:00\u001b[0m\n",
            "\u001b[?25h  Building wheel for amilib (setup.py) ... \u001b[?25l\u001b[?25hdone\n",
            "  Building wheel for pdfminer3 (setup.py) ... \u001b[?25l\u001b[?25hdone\n",
            "  Building wheel for tinycss (setup.py) ... \u001b[?25l\u001b[?25hdone\n"
          ]
        }
      ],
      "source": [
        "!pip install --quiet amilib==0.3.9"
      ]
    },
    {
      "cell_type": "code",
      "source": [
        "!amilib DICT --words /content/IPCC-Ch04-Wordlist.txt wordlist.txt --description wikipedia --dict wg2chap04_dict.html --figures --operation create"
      ],
      "metadata": {
        "colab": {
          "base_uri": "https://localhost:8080/"
        },
        "id": "SKtKnrcqPZOz",
        "outputId": "cf05257f-439e-48c9-eeb9-a10cc5c95b1f"
      },
      "execution_count": null,
      "outputs": [
        {
          "output_type": "stream",
          "name": "stdout",
          "text": [
            "INFO amix.py:555:***** amilib VERSION 0.3.9 *****\n",
            "INFO:amilib.amix:***** amilib VERSION 0.3.9 *****\n",
            "INFO amix.py:170:command: ['DICT', '--words', '/content/IPCC-Ch04-Wordlist.txt', 'wordlist.txt', '--description', 'wikipedia', '--dict', 'wg2chap04_dict.html', '--figures', '--operation', 'create']\n",
            "INFO:amilib.amix:command: ['DICT', '--words', '/content/IPCC-Ch04-Wordlist.txt', 'wordlist.txt', '--description', 'wikipedia', '--dict', 'wg2chap04_dict.html', '--figures', '--operation', 'create']\n",
            "DEBUG dict_args.py:52:creating HTML Args\n",
            "DEBUG:amilib.dict_args:creating HTML Args\n",
            "DEBUG dict_args.py:52:creating HTML Args\n",
            "DEBUG:amilib.dict_args:creating HTML Args\n",
            "DEBUG dict_args.py:123:DICT process_args {'version': False, 'command': 'DICT', 'description': 'wikipedia', 'dict': 'wg2chap04_dict.html', 'figures': [], 'operation': 'create', 'title': 'unknown', 'validate': False, 'words': ['/content/IPCC-Ch04-Wordlist.txt', 'wordlist.txt']}\n",
            "DEBUG:amilib.dict_args:DICT process_args {'version': False, 'command': 'DICT', 'description': 'wikipedia', 'dict': 'wg2chap04_dict.html', 'figures': [], 'operation': 'create', 'title': 'unknown', 'validate': False, 'words': ['/content/IPCC-Ch04-Wordlist.txt', 'wordlist.txt']}\n",
            "DEBUG file_lib.py:577:strings_in <class 'list'> .. ['/content/IPCC-Ch04-Wordlist.txt', 'wordlist.txt']\n",
            "DEBUG:amilib.file_lib:strings_in <class 'list'> .. ['/content/IPCC-Ch04-Wordlist.txt', 'wordlist.txt']\n",
            "DEBUG file_lib.py:580:after literal eval strings_in <class 'list'> .. ['/content/IPCC-Ch04-Wordlist.txt', 'wordlist.txt']\n",
            "DEBUG:amilib.file_lib:after literal eval strings_in <class 'list'> .. ['/content/IPCC-Ch04-Wordlist.txt', 'wordlist.txt']\n",
            "INFO dict_args.py:252:creating dictionary from ['Anthropogenic climate change', 'Observed climate change', 'Regional climate change']...\n",
            "INFO:amilib.dict_args:creating dictionary from ['Anthropogenic climate change', 'Observed climate change', 'Regional climate change']...\n",
            "INFO ami_dict.py:857:duplicate term: Hydrological cycle ignored \n",
            "INFO:amilib.ami_dict:duplicate term: Hydrological cycle ignored \n",
            "WARNING wikimedia.py:1627:no infobox\n",
            "WARNING:amilib.wikimedia:no infobox\n",
            "DEBUG ami_dict.py:533:Anthropogenic climate change: None\n",
            "DEBUG:amilib.ami_dict:Anthropogenic climate change: None\n",
            "WARNING wikimedia.py:1627:no infobox\n",
            "WARNING:amilib.wikimedia:no infobox\n",
            "DEBUG ami_dict.py:533:Observed climate change: None\n",
            "DEBUG:amilib.ami_dict:Observed climate change: None\n",
            "INFO ami_dict.py:536:NO FIGURES for Observed climate change\n",
            "INFO:amilib.ami_dict:NO FIGURES for Observed climate change\n",
            "WARNING wikimedia.py:1627:no infobox\n",
            "WARNING:amilib.wikimedia:no infobox\n",
            "DEBUG ami_dict.py:533:Regional climate change: None\n",
            "DEBUG:amilib.ami_dict:Regional climate change: None\n",
            "WARNING wikimedia.py:1627:no infobox\n",
            "WARNING:amilib.wikimedia:no infobox\n",
            "DEBUG ami_dict.py:533:Anthropogenic greenhouse forcing: None\n",
            "DEBUG:amilib.ami_dict:Anthropogenic greenhouse forcing: None\n",
            "INFO ami_dict.py:536:NO FIGURES for Anthropogenic greenhouse forcing\n",
            "INFO:amilib.ami_dict:NO FIGURES for Anthropogenic greenhouse forcing\n",
            "DEBUG wikimedia.py:1365:except list index out of range\n",
            "DEBUG:amilib.wikimedia:except list index out of range\n",
            "Traceback (most recent call last):\n",
            "  File \"/usr/local/bin/amilib\", line 8, in <module>\n",
            "    sys.exit(main())\n",
            "             ^^^^^^\n",
            "  File \"/usr/local/lib/python3.11/dist-packages/amilib/amix.py\", line 558, in main\n",
            "    amix.run_command(sys.argv[1:])\n",
            "  File \"/usr/local/lib/python3.11/dist-packages/amilib/amix.py\", line 179, in run_command\n",
            "    self.parse_and_run_args(args)\n",
            "  File \"/usr/local/lib/python3.11/dist-packages/amilib/amix.py\", line 202, in parse_and_run_args\n",
            "    self.run_arguments()\n",
            "  File \"/usr/local/lib/python3.11/dist-packages/amilib/amix.py\", line 256, in run_arguments\n",
            "    abstract_args._parse_and_process1(self.args)\n",
            "  File \"/usr/local/lib/python3.11/dist-packages/amilib/ami_args.py\", line 101, in _parse_and_process1\n",
            "    self.process_args()\n",
            "  File \"/usr/local/lib/python3.11/dist-packages/amilib/dict_args.py\", line 147, in process_args\n",
            "    self.create_dictionary_from_words(self.title)\n",
            "  File \"/usr/local/lib/python3.11/dist-packages/amilib/dict_args.py\", line 226, in create_dictionary_from_words\n",
            "    self.add_figures()\n",
            "  File \"/usr/local/lib/python3.11/dist-packages/amilib/dict_args.py\", line 365, in add_figures\n",
            "    wikipedia_page = ami_entry.lookup_and_add_wikipedia_page()\n",
            "                     ^^^^^^^^^^^^^^^^^^^^^^^^^^^^^^^^^^^^^^^^^\n",
            "  File \"/usr/local/lib/python3.11/dist-packages/amilib/ami_dict.py\", line 420, in lookup_and_add_wikipedia_page\n",
            "    wp_para = wikipedia_page.create_first_wikipedia_para()\n",
            "              ^^^^^^^^^^^^^^^^^^^^^^^^^^^^^^^^^^^^^^^^^^^^\n",
            "  File \"/usr/local/lib/python3.11/dist-packages/amilib/wikimedia.py\", line 1377, in create_first_wikipedia_para\n",
            "    ps = main_elem.xpath(\".//p\")\n",
            "         ^^^^^^^^^^^^^^^\n",
            "AttributeError: 'NoneType' object has no attribute 'xpath'\n"
          ]
        }
      ]
    },
    {
      "source": [
        "!amilib DICT --words /content/IPCC-Ch04-Wordlist.txt wordlist.txt --description wikipedia --dict wg2chap04_dict.html --operation create"
      ],
      "cell_type": "code",
      "metadata": {
        "colab": {
          "base_uri": "https://localhost:8080/"
        },
        "id": "WNLvnJXlP8Wz",
        "outputId": "82538038-9c8c-422e-e0e2-8ced0f3bd14c"
      },
      "execution_count": null,
      "outputs": [
        {
          "output_type": "stream",
          "name": "stdout",
          "text": [
            "INFO amix.py:555:***** amilib VERSION 0.3.9 *****\n",
            "INFO:amilib.amix:***** amilib VERSION 0.3.9 *****\n",
            "INFO amix.py:170:command: ['DICT', '--words', '/content/IPCC-Ch04-Wordlist.txt', 'wordlist.txt', '--description', 'wikipedia', '--dict', 'wg2chap04_dict.html', '--operation', 'create']\n",
            "INFO:amilib.amix:command: ['DICT', '--words', '/content/IPCC-Ch04-Wordlist.txt', 'wordlist.txt', '--description', 'wikipedia', '--dict', 'wg2chap04_dict.html', '--operation', 'create']\n",
            "DEBUG dict_args.py:52:creating HTML Args\n",
            "DEBUG:amilib.dict_args:creating HTML Args\n",
            "DEBUG dict_args.py:52:creating HTML Args\n",
            "DEBUG:amilib.dict_args:creating HTML Args\n",
            "DEBUG dict_args.py:123:DICT process_args {'version': False, 'command': 'DICT', 'description': 'wikipedia', 'dict': 'wg2chap04_dict.html', 'figures': 'None', 'operation': 'create', 'title': 'unknown', 'validate': False, 'words': ['/content/IPCC-Ch04-Wordlist.txt', 'wordlist.txt']}\n",
            "DEBUG:amilib.dict_args:DICT process_args {'version': False, 'command': 'DICT', 'description': 'wikipedia', 'dict': 'wg2chap04_dict.html', 'figures': 'None', 'operation': 'create', 'title': 'unknown', 'validate': False, 'words': ['/content/IPCC-Ch04-Wordlist.txt', 'wordlist.txt']}\n",
            "DEBUG file_lib.py:577:strings_in <class 'list'> .. ['/content/IPCC-Ch04-Wordlist.txt', 'wordlist.txt']\n",
            "DEBUG:amilib.file_lib:strings_in <class 'list'> .. ['/content/IPCC-Ch04-Wordlist.txt', 'wordlist.txt']\n",
            "DEBUG file_lib.py:580:after literal eval strings_in <class 'list'> .. ['/content/IPCC-Ch04-Wordlist.txt', 'wordlist.txt']\n",
            "DEBUG:amilib.file_lib:after literal eval strings_in <class 'list'> .. ['/content/IPCC-Ch04-Wordlist.txt', 'wordlist.txt']\n",
            "INFO dict_args.py:252:creating dictionary from ['Anthropogenic climate change', 'Observed climate change', 'Regional climate change']...\n",
            "INFO:amilib.dict_args:creating dictionary from ['Anthropogenic climate change', 'Observed climate change', 'Regional climate change']...\n",
            "INFO ami_dict.py:857:duplicate term: Hydrological cycle ignored \n",
            "INFO:amilib.ami_dict:duplicate term: Hydrological cycle ignored \n",
            "wrote: /content/wg2chap04_dict.html\n",
            "DEBUG ami_dict.py:1224:wrote dictionary unknown to wg2chap04_dict.html\n",
            "DEBUG:amilib.ami_dict:wrote dictionary unknown to wg2chap04_dict.html\n",
            "wrote: /content/wg2chap04_dict.html\n",
            "DEBUG ami_dict.py:1224:wrote dictionary unknown to wg2chap04_dict.html\n",
            "DEBUG:amilib.ami_dict:wrote dictionary unknown to wg2chap04_dict.html\n"
          ]
        }
      ]
    },
    {
      "cell_type": "code",
      "source": [
        "from IPython.core.display import display, HTML\n",
        "\n",
        "# Path to the HTML file\n",
        "html_file_path = '/content/wg2chap04_dict.html'\n",
        "\n",
        "# Read the HTML file\n",
        "with open(html_file_path, 'r', encoding='utf-8') as file:\n",
        "    html_content = file.read()\n",
        "\n",
        "# Display the HTML content\n",
        "display(HTML(html_content))"
      ],
      "metadata": {
        "colab": {
          "base_uri": "https://localhost:8080/",
          "height": 1000
        },
        "id": "my-xtpKNQHhq",
        "outputId": "4baa84bc-242a-45ed-d379-389ba1eb308d"
      },
      "execution_count": null,
      "outputs": [
        {
          "output_type": "display_data",
          "data": {
            "text/plain": [
              "<IPython.core.display.HTML object>"
            ],
            "text/html": [
              "<html><head><style>div[role] {border:solid 1px;margin:1px;}</style><base href=\"https://en.wikipedia.org/wiki/\"></head><body><div role=\"ami_dictionary\" title=\"wg2chap04_dict\"><div name=\"Anthropogenic climate change\" term=\"Anthropogenic climate change\" role=\"ami_entry\"><p>search term:  Anthropogenic climate change <a href=\"https://en.wikipedia.org/w/index.php?search=Anthropogenic%20climate%20change\">Wikipedia Page</a></p><p></p></div><div name=\"Observed climate change\" term=\"Observed climate change\" role=\"ami_entry\"><p>search term:  Observed climate change <a href=\"https://en.wikipedia.org/w/index.php?search=Observed%20climate%20change\">Wikipedia Page</a></p><p></p></div><div name=\"Regional climate change\" term=\"Regional climate change\" role=\"ami_entry\"><p>search term:  Regional climate change <a href=\"https://en.wikipedia.org/w/index.php?search=Regional%20climate%20change\">Wikipedia Page</a></p><p></p></div><div name=\"Anthropogenic greenhouse forcing\" term=\"Anthropogenic greenhouse forcing\" role=\"ami_entry\"><p>search term:  Anthropogenic greenhouse forcing <a href=\"https://en.wikipedia.org/w/index.php?search=Anthropogenic%20greenhouse%20forcing\">Wikipedia Page</a></p><p></p></div><div name=\"Atmospheric composition\" term=\"Atmospheric composition\" role=\"ami_entry\"><p>search term:  Atmospheric composition <a href=\"https://en.wikipedia.org/w/index.php?search=Atmospheric%20composition\">Wikipedia Page</a></p><p></p></div><div name=\"wildfire\" term=\"wildfire\" role=\"ami_entry\"><p>search term:  wildfire <a href=\"https://en.wikipedia.org/w/index.php?search=wildfire\">Wikipedia Page</a></p><p></p></div><div name=\"Climatic vulnerability\" term=\"Climatic vulnerability\" role=\"ami_entry\"><p>search term:  Climatic vulnerability <a href=\"https://en.wikipedia.org/w/index.php?search=Climatic%20vulnerability\">Wikipedia Page</a></p><p></p></div><div name=\"faecal contamination\" term=\"faecal contamination\" role=\"ami_entry\"><p>search term:  faecal contamination <a href=\"https://en.wikipedia.org/w/index.php?search=faecal%20contamination\">Wikipedia Page</a></p><p></p></div><div name=\"Urban Resilience\" term=\"Urban Resilience\" role=\"ami_entry\"><p>search term:  Urban Resilience <a href=\"https://en.wikipedia.org/w/index.php?search=Urban%20Resilience\">Wikipedia Page</a></p><p></p></div><div name=\"dry peatland pastures\" term=\"dry peatland pastures\" role=\"ami_entry\"><p>search term:  dry peatland pastures <a href=\"https://en.wikipedia.org/w/index.php?search=dry%20peatland%20pastures\">Wikipedia Page</a></p><p></p></div><div name=\"sediment dynamics\" term=\"sediment dynamics\" role=\"ami_entry\"><p>search term:  sediment dynamics <a href=\"https://en.wikipedia.org/w/index.php?search=sediment%20dynamics\">Wikipedia Page</a></p><p></p></div><div name=\"Streamflow\" term=\"Streamflow\" role=\"ami_entry\"><p>search term:  Streamflow <a href=\"https://en.wikipedia.org/w/index.php?search=Streamflow\">Wikipedia Page</a></p><p></p></div><div name=\"water resources model\" term=\"water resources model\" role=\"ami_entry\"><p>search term:  water resources model <a href=\"https://en.wikipedia.org/w/index.php?search=water%20resources%20model\">Wikipedia Page</a></p><p></p></div><div name=\"motorways\" term=\"motorways\" role=\"ami_entry\"><p>search term:  motorways <a href=\"https://en.wikipedia.org/w/index.php?search=motorways\">Wikipedia Page</a></p><p></p></div><div name=\"Systems Transformations\" term=\"Systems Transformations\" role=\"ami_entry\"><p>search term:  Systems Transformations <a href=\"https://en.wikipedia.org/w/index.php?search=Systems%20Transformations\">Wikipedia Page</a></p><p></p></div><div name=\"Biodiversity loss\" term=\"Biodiversity loss\" role=\"ami_entry\"><p>search term:  Biodiversity loss <a href=\"https://en.wikipedia.org/w/index.php?search=Biodiversity%20loss\">Wikipedia Page</a></p><p></p></div><div name=\"Climate variability\" term=\"Climate variability\" role=\"ami_entry\"><p>search term:  Climate variability <a href=\"https://en.wikipedia.org/w/index.php?search=Climate%20variability\">Wikipedia Page</a></p><p></p></div><div name=\"Land degradation\" term=\"Land degradation\" role=\"ami_entry\"><p>search term:  Land degradation <a href=\"https://en.wikipedia.org/w/index.php?search=Land%20degradation\">Wikipedia Page</a></p><p></p></div><div name=\"Ecosystem-based adaptation\" term=\"Ecosystem-based adaptation\" role=\"ami_entry\"><p>search term:  Ecosystem-based adaptation <a href=\"https://en.wikipedia.org/w/index.php?search=Ecosystem-based%20adaptation\">Wikipedia Page</a></p><p></p></div><div name=\"Urban heat islands\" term=\"Urban heat islands\" role=\"ami_entry\"><p>search term:  Urban heat islands <a href=\"https://en.wikipedia.org/w/index.php?search=Urban%20heat%20islands\">Wikipedia Page</a></p><p></p></div><div name=\"Climate vulnerability\" term=\"Climate vulnerability\" role=\"ami_entry\"><p>search term:  Climate vulnerability <a href=\"https://en.wikipedia.org/w/index.php?search=Climate%20vulnerability\">Wikipedia Page</a></p><p></p></div><div name=\"Disaster risk reduction\" term=\"Disaster risk reduction\" role=\"ami_entry\"><p>search term:  Disaster risk reduction <a href=\"https://en.wikipedia.org/w/index.php?search=Disaster%20risk%20reduction\">Wikipedia Page</a></p><p></p></div><div name=\"Climate-induced migration\" term=\"Climate-induced migration\" role=\"ami_entry\"><p>search term:  Climate-induced migration <a href=\"https://en.wikipedia.org/w/index.php?search=Climate-induced%20migration\">Wikipedia Page</a></p><p></p></div><div name=\"Water governance\" term=\"Water governance\" role=\"ami_entry\"><p>search term:  Water governance <a href=\"https://en.wikipedia.org/w/index.php?search=Water%20governance\">Wikipedia Page</a></p><p></p></div><div name=\"Agricultural resilience\" term=\"Agricultural resilience\" role=\"ami_entry\"><p>search term:  Agricultural resilience <a href=\"https://en.wikipedia.org/w/index.php?search=Agricultural%20resilience\">Wikipedia Page</a></p><p></p></div><div name=\"Sustainable land use\" term=\"Sustainable land use\" role=\"ami_entry\"><p>search term:  Sustainable land use <a href=\"https://en.wikipedia.org/w/index.php?search=Sustainable%20land%20use\">Wikipedia Page</a></p><p></p></div><div name=\"Carbon footprint\" term=\"Carbon footprint\" role=\"ami_entry\"><p>search term:  Carbon footprint <a href=\"https://en.wikipedia.org/w/index.php?search=Carbon%20footprint\">Wikipedia Page</a></p><p></p></div><div name=\"Sustainability\" term=\"Sustainability\" role=\"ami_entry\"><p>search term:  Sustainability <a href=\"https://en.wikipedia.org/w/index.php?search=Sustainability\">Wikipedia Page</a></p><p></p></div><div name=\"measurements\" term=\"measurements\" role=\"ami_entry\"><p>search term:  measurements <a href=\"https://en.wikipedia.org/w/index.php?search=measurements\">Wikipedia Page</a></p><p></p></div><div name=\"inclusiveness\" term=\"inclusiveness\" role=\"ami_entry\"><p>search term:  inclusiveness <a href=\"https://en.wikipedia.org/w/index.php?search=inclusiveness\">Wikipedia Page</a></p><p></p></div><div name=\"pastoral livelihoods\" term=\"pastoral livelihoods\" role=\"ami_entry\"><p>search term:  pastoral livelihoods <a href=\"https://en.wikipedia.org/w/index.php?search=pastoral%20livelihoods\">Wikipedia Page</a></p><p></p></div><div name=\"attribution studies\" term=\"attribution studies\" role=\"ami_entry\"><p>search term:  attribution studies <a href=\"https://en.wikipedia.org/w/index.php?search=attribution%20studies\">Wikipedia Page</a></p><p></p></div><div name=\"Population densities\" term=\"Population densities\" role=\"ami_entry\"><p>search term:  Population densities <a href=\"https://en.wikipedia.org/w/index.php?search=Population%20densities\">Wikipedia Page</a></p><p></p></div><div name=\"Chemical contaminants\" term=\"Chemical contaminants\" role=\"ami_entry\"><p>search term:  Chemical contaminants <a href=\"https://en.wikipedia.org/w/index.php?search=Chemical%20contaminants\">Wikipedia Page</a></p><p></p></div><div name=\"Mediterranean countries\" term=\"Mediterranean countries\" role=\"ami_entry\"><p>search term:  Mediterranean countries <a href=\"https://en.wikipedia.org/w/index.php?search=Mediterranean%20countries\">Wikipedia Page</a></p><p></p></div><div name=\"Gridded Population\" term=\"Gridded Population\" role=\"ami_entry\"><p>search term:  Gridded Population <a href=\"https://en.wikipedia.org/w/index.php?search=Gridded%20Population\">Wikipedia Page</a></p><p></p></div><div name=\"cryospheric change\" term=\"cryospheric change\" role=\"ami_entry\"><p>search term:  cryospheric change <a href=\"https://en.wikipedia.org/w/index.php?search=cryospheric%20change\">Wikipedia Page</a></p><p></p></div><div name=\"precipitation change\" term=\"precipitation change\" role=\"ami_entry\"><p>search term:  precipitation change <a href=\"https://en.wikipedia.org/w/index.php?search=precipitation%20change\">Wikipedia Page</a></p><p></p></div><div name=\"hydrological cycle\" term=\"hydrological cycle\" role=\"ami_entry\"><p>search term:  hydrological cycle <a href=\"https://en.wikipedia.org/w/index.php?search=hydrological%20cycle\">Wikipedia Page</a></p><p></p></div><div name=\"heavy cumulative rainfall\" term=\"heavy cumulative rainfall\" role=\"ami_entry\"><p>search term:  heavy cumulative rainfall <a href=\"https://en.wikipedia.org/w/index.php?search=heavy%20cumulative%20rainfall\">Wikipedia Page</a></p><p></p></div><div name=\"green water resources\" term=\"green water resources\" role=\"ami_entry\"><p>search term:  green water resources <a href=\"https://en.wikipedia.org/w/index.php?search=green%20water%20resources\">Wikipedia Page</a></p><p></p></div><div name=\"groundwater salinisation\" term=\"groundwater salinisation\" role=\"ami_entry\"><p>search term:  groundwater salinisation <a href=\"https://en.wikipedia.org/w/index.php?search=groundwater%20salinisation\">Wikipedia Page</a></p><p></p></div><div name=\"Adaptation\" term=\"Adaptation\" role=\"ami_entry\"><p>search term:  Adaptation <a href=\"https://en.wikipedia.org/w/index.php?search=Adaptation\">Wikipedia Page</a></p><p></p></div><div name=\"Mitigation\" term=\"Mitigation\" role=\"ami_entry\"><p>search term:  Mitigation <a href=\"https://en.wikipedia.org/w/index.php?search=Mitigation\">Wikipedia Page</a></p><p></p></div><div name=\"Carbon sequestration\" term=\"Carbon sequestration\" role=\"ami_entry\"><p>search term:  Carbon sequestration <a href=\"https://en.wikipedia.org/w/index.php?search=Carbon%20sequestration\">Wikipedia Page</a></p><p></p></div><div name=\"Greenhouse gases\" term=\"Greenhouse gases\" role=\"ami_entry\"><p>search term:  Greenhouse gases <a href=\"https://en.wikipedia.org/w/index.php?search=Greenhouse%20gases\">Wikipedia Page</a></p><p></p></div><div name=\"Global warming\" term=\"Global warming\" role=\"ami_entry\"><p>search term:  Global warming <a href=\"https://en.wikipedia.org/w/index.php?search=Global%20warming\">Wikipedia Page</a></p><p></p></div><div name=\"Climate resilience\" term=\"Climate resilience\" role=\"ami_entry\"><p>search term:  Climate resilience <a href=\"https://en.wikipedia.org/w/index.php?search=Climate%20resilience\">Wikipedia Page</a></p><p></p></div><div name=\"Water scarcity\" term=\"Water scarcity\" role=\"ami_entry\"><p>search term:  Water scarcity <a href=\"https://en.wikipedia.org/w/index.php?search=Water%20scarcity\">Wikipedia Page</a></p><p></p></div><div name=\"Permafrost melting\" term=\"Permafrost melting\" role=\"ami_entry\"><p>search term:  Permafrost melting <a href=\"https://en.wikipedia.org/w/index.php?search=Permafrost%20melting\">Wikipedia Page</a></p><p></p></div><div name=\"Drought intensity\" term=\"Drought intensity\" role=\"ami_entry\"><p>search term:  Drought intensity <a href=\"https://en.wikipedia.org/w/index.php?search=Drought%20intensity\">Wikipedia Page</a></p><p></p></div><div name=\"Extreme precipitation\" term=\"Extreme precipitation\" role=\"ami_entry\"><p>search term:  Extreme precipitation <a href=\"https://en.wikipedia.org/w/index.php?search=Extreme%20precipitation\">Wikipedia Page</a></p><p></p></div><div name=\"Flood risk management\" term=\"Flood risk management\" role=\"ami_entry\"><p>search term:  Flood risk management <a href=\"https://en.wikipedia.org/w/index.php?search=Flood%20risk%20management\">Wikipedia Page</a></p><p></p></div><div name=\"Cryosphere\" term=\"Cryosphere\" role=\"ami_entry\"><p>search term:  Cryosphere <a href=\"https://en.wikipedia.org/w/index.php?search=Cryosphere\">Wikipedia Page</a></p><p></p></div><div name=\"Evapotranspiration\" term=\"Evapotranspiration\" role=\"ami_entry\"><p>search term:  Evapotranspiration <a href=\"https://en.wikipedia.org/w/index.php?search=Evapotranspiration\">Wikipedia Page</a></p><p></p></div><div name=\"Renewable water resources\" term=\"Renewable water resources\" role=\"ami_entry\"><p>search term:  Renewable water resources <a href=\"https://en.wikipedia.org/w/index.php?search=Renewable%20water%20resources\">Wikipedia Page</a></p><p></p></div><div name=\"Desertification\" term=\"Desertification\" role=\"ami_entry\"><p>search term:  Desertification <a href=\"https://en.wikipedia.org/w/index.php?search=Desertification\">Wikipedia Page</a></p><p></p></div><div name=\"Ocean acidification\" term=\"Ocean acidification\" role=\"ami_entry\"><p>search term:  Ocean acidification <a href=\"https://en.wikipedia.org/w/index.php?search=Ocean%20acidification\">Wikipedia Page</a></p><p></p></div><div name=\"pastoralists\" term=\"pastoralists\" role=\"ami_entry\"><p>search term:  pastoralists <a href=\"https://en.wikipedia.org/w/index.php?search=pastoralists\">Wikipedia Page</a></p><p></p></div><div name=\"catchments\" term=\"catchments\" role=\"ami_entry\"><p>search term:  catchments <a href=\"https://en.wikipedia.org/w/index.php?search=catchments\">Wikipedia Page</a></p><p></p></div><div name=\"sediment fluxes\" term=\"sediment fluxes\" role=\"ami_entry\"><p>search term:  sediment fluxes <a href=\"https://en.wikipedia.org/w/index.php?search=sediment%20fluxes\">Wikipedia Page</a></p><p></p></div><div name=\"sediment load\" term=\"sediment load\" role=\"ami_entry\"><p>search term:  sediment load <a href=\"https://en.wikipedia.org/w/index.php?search=sediment%20load\">Wikipedia Page</a></p><p></p></div><div name=\"Inland Water Systems\" term=\"Inland Water Systems\" role=\"ami_entry\"><p>search term:  Inland Water Systems <a href=\"https://en.wikipedia.org/w/index.php?search=Inland%20Water%20Systems\">Wikipedia Page</a></p><p></p></div><div name=\"mountainous\" term=\"mountainous\" role=\"ami_entry\"><p>search term:  mountainous <a href=\"https://en.wikipedia.org/w/index.php?search=mountainous\">Wikipedia Page</a></p><p></p></div><div name=\"land degradation\" term=\"land degradation\" role=\"ami_entry\"><p>search term:  land degradation <a href=\"https://en.wikipedia.org/w/index.php?search=land%20degradation\">Wikipedia Page</a></p><p></p></div><div name=\"arid areas\" term=\"arid areas\" role=\"ami_entry\"><p>search term:  arid areas <a href=\"https://en.wikipedia.org/w/index.php?search=arid%20areas\">Wikipedia Page</a></p><p></p></div><div name=\"consumption dynamics\" term=\"consumption dynamics\" role=\"ami_entry\"><p>search term:  consumption dynamics <a href=\"https://en.wikipedia.org/w/index.php?search=consumption%20dynamics\">Wikipedia Page</a></p><p></p></div><div name=\"indigenous people\" term=\"indigenous people\" role=\"ami_entry\"><p>search term:  indigenous people <a href=\"https://en.wikipedia.org/w/index.php?search=indigenous%20people\">Wikipedia Page</a></p><p></p></div><div name=\"Glacial lake\" term=\"Glacial lake\" role=\"ami_entry\"><p>search term:  Glacial lake <a href=\"https://en.wikipedia.org/w/index.php?search=Glacial%20lake\">Wikipedia Page</a></p><p></p></div><div name=\"drip irrigation\" term=\"drip irrigation\" role=\"ami_entry\"><p>search term:  drip irrigation <a href=\"https://en.wikipedia.org/w/index.php?search=drip%20irrigation\">Wikipedia Page</a></p><p></p></div><div name=\"higher salinity\" term=\"higher salinity\" role=\"ami_entry\"><p>search term:  higher salinity <a href=\"https://en.wikipedia.org/w/index.php?search=higher%20salinity\">Wikipedia Page</a></p><p></p></div><div name=\"reciprocity\" term=\"reciprocity\" role=\"ami_entry\"><p>search term:  reciprocity <a href=\"https://en.wikipedia.org/w/index.php?search=reciprocity\">Wikipedia Page</a></p><p></p></div><div name=\"Satellite imaging\" term=\"Satellite imaging\" role=\"ami_entry\"><p>search term:  Satellite imaging <a href=\"https://en.wikipedia.org/w/index.php?search=Satellite%20imaging\">Wikipedia Page</a></p><p></p></div><div name=\"wetting trend\" term=\"wetting trend\" role=\"ami_entry\"><p>search term:  wetting trend <a href=\"https://en.wikipedia.org/w/index.php?search=wetting%20trend\">Wikipedia Page</a></p><p></p></div><div name=\"infrastructure\" term=\"infrastructure\" role=\"ami_entry\"><p>search term:  infrastructure <a href=\"https://en.wikipedia.org/w/index.php?search=infrastructure\">Wikipedia Page</a></p><p></p></div><div name=\"hydrological scenarios\" term=\"hydrological scenarios\" role=\"ami_entry\"><p>search term:  hydrological scenarios <a href=\"https://en.wikipedia.org/w/index.php?search=hydrological%20scenarios\">Wikipedia Page</a></p><p></p></div><div name=\"seasonality\" term=\"seasonality\" role=\"ami_entry\"><p>search term:  seasonality <a href=\"https://en.wikipedia.org/w/index.php?search=seasonality\">Wikipedia Page</a></p><p></p></div><div name=\"river floods\" term=\"river floods\" role=\"ami_entry\"><p>search term:  river floods <a href=\"https://en.wikipedia.org/w/index.php?search=river%20floods\">Wikipedia Page</a></p><p></p></div><div name=\"Water Conservation\" term=\"Water Conservation\" role=\"ami_entry\"><p>search term:  Water Conservation <a href=\"https://en.wikipedia.org/w/index.php?search=Water%20Conservation\">Wikipedia Page</a></p><p></p></div><div name=\"ecological drought\" term=\"ecological drought\" role=\"ami_entry\"><p>search term:  ecological drought <a href=\"https://en.wikipedia.org/w/index.php?search=ecological%20drought\">Wikipedia Page</a></p><p></p></div><div name=\"evapotranspiration\" term=\"evapotranspiration\" role=\"ami_entry\"><p>search term:  evapotranspiration <a href=\"https://en.wikipedia.org/w/index.php?search=evapotranspiration\">Wikipedia Page</a></p><p></p></div><div name=\"storm water runoff\" term=\"storm water runoff\" role=\"ami_entry\"><p>search term:  storm water runoff <a href=\"https://en.wikipedia.org/w/index.php?search=storm%20water%20runoff\">Wikipedia Page</a></p><p></p></div><div name=\"flooding risk\" term=\"flooding risk\" role=\"ami_entry\"><p>search term:  flooding risk <a href=\"https://en.wikipedia.org/w/index.php?search=flooding%20risk\">Wikipedia Page</a></p><p></p></div><div name=\"socioeconomic\" term=\"socioeconomic\" role=\"ami_entry\"><p>search term:  socioeconomic <a href=\"https://en.wikipedia.org/w/index.php?search=socioeconomic\">Wikipedia Page</a></p><p></p></div><div name=\"satellites\" term=\"satellites\" role=\"ami_entry\"><p>search term:  satellites <a href=\"https://en.wikipedia.org/w/index.php?search=satellites\">Wikipedia Page</a></p><p></p></div><div name=\"Integrated governance\" term=\"Integrated governance\" role=\"ami_entry\"><p>search term:  Integrated governance <a href=\"https://en.wikipedia.org/w/index.php?search=Integrated%20governance\">Wikipedia Page</a></p><p></p></div><div name=\"Polar amplification\" term=\"Polar amplification\" role=\"ami_entry\"><p>search term:  Polar amplification <a href=\"https://en.wikipedia.org/w/index.php?search=Polar%20amplification\">Wikipedia Page</a></p><p></p></div><div name=\"ethnic minorities\" term=\"ethnic minorities\" role=\"ami_entry\"><p>search term:  ethnic minorities <a href=\"https://en.wikipedia.org/w/index.php?search=ethnic%20minorities\">Wikipedia Page</a></p><p></p></div><div name=\"forestation\" term=\"forestation\" role=\"ami_entry\"><p>search term:  forestation <a href=\"https://en.wikipedia.org/w/index.php?search=forestation\">Wikipedia Page</a></p><p></p></div><div name=\"Subarctic ponds\" term=\"Subarctic ponds\" role=\"ami_entry\"><p>search term:  Subarctic ponds <a href=\"https://en.wikipedia.org/w/index.php?search=Subarctic%20ponds\">Wikipedia Page</a></p><p></p></div><div name=\"meteorological data\" term=\"meteorological data\" role=\"ami_entry\"><p>search term:  meteorological data <a href=\"https://en.wikipedia.org/w/index.php?search=meteorological%20data\">Wikipedia Page</a></p><p></p></div><div name=\"crop insurance\" term=\"crop insurance\" role=\"ami_entry\"><p>search term:  crop insurance <a href=\"https://en.wikipedia.org/w/index.php?search=crop%20insurance\">Wikipedia Page</a></p><p></p></div><div name=\"symbolic representations\" term=\"symbolic representations\" role=\"ami_entry\"><p>search term:  symbolic representations <a href=\"https://en.wikipedia.org/w/index.php?search=symbolic%20representations\">Wikipedia Page</a></p><p></p></div><div name=\"irrigated croplands\" term=\"irrigated croplands\" role=\"ami_entry\"><p>search term:  irrigated croplands <a href=\"https://en.wikipedia.org/w/index.php?search=irrigated%20croplands\">Wikipedia Page</a></p><p></p></div><div name=\"terrestrial biosphere\" term=\"terrestrial biosphere\" role=\"ami_entry\"><p>search term:  terrestrial biosphere <a href=\"https://en.wikipedia.org/w/index.php?search=terrestrial%20biosphere\">Wikipedia Page</a></p><p></p></div><div name=\"Global water scarcity\" term=\"Global water scarcity\" role=\"ami_entry\"><p>search term:  Global water scarcity <a href=\"https://en.wikipedia.org/w/index.php?search=Global%20water%20scarcity\">Wikipedia Page</a></p><p></p></div><div name=\"Rolwaling Sherpa community\" term=\"Rolwaling Sherpa community\" role=\"ami_entry\"><p>search term:  Rolwaling Sherpa community <a href=\"https://en.wikipedia.org/w/index.php?search=Rolwaling%20Sherpa%20community\">Wikipedia Page</a></p><p></p></div><div name=\"Wetland Book\" term=\"Wetland Book\" role=\"ami_entry\"><p>search term:  Wetland Book <a href=\"https://en.wikipedia.org/w/index.php?search=Wetland%20Book\">Wikipedia Page</a></p><p></p></div><div name=\"Flash flood\" term=\"Flash flood\" role=\"ami_entry\"><p>search term:  Flash flood <a href=\"https://en.wikipedia.org/w/index.php?search=Flash%20flood\">Wikipedia Page</a></p><p></p></div><div name=\"partisanship\" term=\"partisanship\" role=\"ami_entry\"><p>search term:  partisanship <a href=\"https://en.wikipedia.org/w/index.php?search=partisanship\">Wikipedia Page</a></p><p></p></div><div name=\"proglacial Lake\" term=\"proglacial Lake\" role=\"ami_entry\"><p>search term:  proglacial Lake <a href=\"https://en.wikipedia.org/w/index.php?search=proglacial%20Lake\">Wikipedia Page</a></p><p></p></div><div name=\"wordlist.txt\" term=\"wordlist.txt\" role=\"ami_entry\"><p>search term:  wordlist.txt <a href=\"https://en.wikipedia.org/w/index.php?search=wordlist.txt\">Wikipedia Page</a></p><p></p></div></div></body></html>"
            ]
          },
          "metadata": {}
        }
      ]
    }
  ]
}