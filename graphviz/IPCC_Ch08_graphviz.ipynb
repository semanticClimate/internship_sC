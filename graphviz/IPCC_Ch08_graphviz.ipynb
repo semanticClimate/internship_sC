{
  "nbformat": 4,
  "nbformat_minor": 0,
  "metadata": {
    "colab": {
      "provenance": []
    },
    "kernelspec": {
      "name": "python3",
      "display_name": "Python 3"
    },
    "language_info": {
      "name": "python"
    }
  },
  "cells": [
    {
      "cell_type": "code",
      "source": [
        "!pip install graphviz\n",
        "\n"
      ],
      "metadata": {
        "colab": {
          "base_uri": "https://localhost:8080/"
        },
        "id": "QHXLHGOe-c3n",
        "outputId": "597c9c53-9426-439f-b8c0-2066e9606a05"
      },
      "execution_count": 6,
      "outputs": [
        {
          "output_type": "stream",
          "name": "stdout",
          "text": [
            "Requirement already satisfied: graphviz in /usr/local/lib/python3.11/dist-packages (0.21)\n"
          ]
        }
      ]
    },
    {
      "cell_type": "code",
      "source": [
        "# 📌 STEP 2: Create the TOC.txt file\n",
        "toc_text = \"\"\"\n",
        "8 Water Cycle Changes\n",
        "\n",
        "8.1 Introduction\n",
        "8.1.1 Scope and Overview\n",
        "    - Importance of Water for Human Societies and Ecosystems\n",
        "    - Overview of the Global Water Cycle in the Climate System\n",
        "8.1.2 Summary of Water Cycle Changes From AR5 and Special Reports\n",
        "8.1.3 Chapter Motivations, Framing and Preview\n",
        "\n",
        "8.2 Why Should We Expect Water Cycle Changes?\n",
        "8.2.1 Global Water Cycle Constraints\n",
        "8.2.2 Constraints on the Regional Water Cycle\n",
        "8.2.3 Local-scale Physical Processes Affecting the Water Cycle\n",
        "Box 8.1 Role of Anthropogenic Aerosols in Water Cycle Changes\n",
        "\n",
        "8.3 How Is the Water Cycle Changing and Why?\n",
        "8.3.1 Observed Water Cycle Changes Based on Multiple Datasets\n",
        "8.3.2 Observed Variations in Large-scale Phenomena and Regional Variability\n",
        "\n",
        "8.4 What Are the Projected Water Cycle Changes?\n",
        "8.4.1 Projected Water Cycle Changes\n",
        "Box 8.2 Changes in Water Cycle Seasonality\n",
        "8.4.2 Projected Changes in Large-scale Phenomena and Regional Variability\n",
        "\n",
        "8.5 What Are the Limits for Projecting Water Cycle Changes?\n",
        "8.5.1 Model Uncertainties of Relevance for the Water Cycle\n",
        "8.5.2 Role of Internal Variability and Volcanic Forcing\n",
        "8.5.3 Non-linearities Across Global Warming Levels\n",
        "\n",
        "8.6 What Is the Potential for Abrupt Change?\n",
        "8.6.1 Abrupt Water Cycle Responses to a Collapse of AMOC\n",
        "8.6.2 Abrupt Responses to Changes in the Land Surface\n",
        "8.6.3 Abrupt Responses to Solar Radiation Modification\n",
        "\n",
        "8.7 Final Remarks\n",
        "\n",
        "\"\"\"\n",
        "\n",
        "with open(\"TOC.txt\", \"w\") as f:\n",
        "    f.write(toc_text.strip())\n",
        "\n",
        "# 📌 STEP 3: Parse TOC and Create Graphviz Tree\n",
        "from graphviz import Digraph\n",
        "from IPython.display import SVG\n",
        "\n",
        "with open(\"TOC.txt\", \"r\") as f:\n",
        "    lines = [line.strip() for line in f if line.strip()]\n",
        "\n",
        "# Create a new directed graph\n",
        "dot = Digraph(name=\"Chapter8_TOC\", format=\"svg\")\n",
        "dot.attr(rankdir=\"TB\", bgcolor=\"white\", fontname=\"Arial\")\n",
        "\n",
        "# Root Node\n",
        "dot.node(\"ROOT\", \"Chapter 8:\\nWater Cycle Changes\", shape=\"box\", style=\"filled\", fillcolor=\"#AED6F1\", fontname=\"Arial Bold\")\n",
        "\n",
        "parent_stack = [\"ROOT\"]\n",
        "\n",
        "# Generate nodes based on indentation\n",
        "for i, line in enumerate(lines[1:], 1):  # Skip chapter title\n",
        "    indent = len(line) - len(line.lstrip())\n",
        "    node_id = f\"N{i}\"\n",
        "    label = line.strip(\" -\")\n",
        "\n",
        "    # Style logic based on indent\n",
        "    shape = \"box\" if indent <= 4 else \"ellipse\"\n",
        "    fillcolor = \"#F9E79F\" if indent <= 4 else \"#ABEBC6\"\n",
        "\n",
        "    dot.node(node_id, label, shape=shape, style=\"filled\", fillcolor=fillcolor, fontname=\"Arial\")\n",
        "\n",
        "    # Determine hierarchy\n",
        "    if indent == 0:\n",
        "        parent_stack = [\"ROOT\"]\n",
        "    while len(parent_stack) > (indent // 4) + 1:\n",
        "        parent_stack.pop()\n",
        "\n",
        "    dot.edge(parent_stack[-1], node_id)\n",
        "    parent_stack.append(node_id)\n",
        "\n",
        "# 📌 STEP 4: Render SVG and Display\n",
        "dot.render(\"chapter8_toc_graph\", cleanup=False)\n",
        "SVG(filename=\"chapter8_toc_graph.svg\")"
      ],
      "metadata": {
        "colab": {
          "base_uri": "https://localhost:8080/",
          "height": 198
        },
        "id": "EQSPJ9UQ9O1N",
        "outputId": "6ae1306b-c5ac-40f7-bc87-0788126e2273"
      },
      "execution_count": 3,
      "outputs": [
        {
          "output_type": "execute_result",
          "data": {
            "text/plain": [
              "<IPython.core.display.SVG object>"
            ],
            "image/svg+xml": "<svg xmlns=\"http://www.w3.org/2000/svg\" xmlns:xlink=\"http://www.w3.org/1999/xlink\" width=\"9354pt\" height=\"118pt\" viewBox=\"0.00 0.00 9353.50 118.00\">\n<g id=\"graph0\" class=\"graph\" transform=\"scale(1 1) rotate(0) translate(4 114)\">\n<title>Chapter8_TOC</title>\n<polygon fill=\"white\" stroke=\"transparent\" points=\"-4,4 -4,-114 9349.5,-114 9349.5,4 -4,4\"/>\n<!-- ROOT -->\n<g id=\"node1\" class=\"node\">\n<title>ROOT</title>\n<polygon fill=\"#aed6f1\" stroke=\"black\" points=\"4713.5,-110 4558.5,-110 4558.5,-72 4713.5,-72 4713.5,-110\"/>\n<text text-anchor=\"middle\" x=\"4636\" y=\"-94.8\" font-family=\"Arial Bold\" font-size=\"14.00\">Chapter 8:</text>\n<text text-anchor=\"middle\" x=\"4636\" y=\"-79.8\" font-family=\"Arial Bold\" font-size=\"14.00\">Water Cycle Changes</text>\n</g>\n<!-- N1 -->\n<g id=\"node2\" class=\"node\">\n<title>N1</title>\n<polygon fill=\"#f9e79f\" stroke=\"black\" points=\"110,-36 0,-36 0,0 110,0 110,-36\"/>\n<text text-anchor=\"middle\" x=\"55\" y=\"-14.3\" font-family=\"Arial\" font-size=\"14.00\">8.1 Introduction</text>\n</g>\n<!-- ROOT&#45;&gt;N1 -->\n<g id=\"edge1\" class=\"edge\">\n<title>ROOT-&gt;N1</title>\n<path fill=\"none\" stroke=\"black\" d=\"M4558.14,-89.62C3985.25,-86.74 435.92,-67.73 120.53,-35.78\"/>\n<polygon fill=\"black\" stroke=\"black\" points=\"120.67,-32.28 110.33,-34.59 119.86,-39.23 120.67,-32.28\"/>\n</g>\n<!-- N2 -->\n<g id=\"node3\" class=\"node\">\n<title>N2</title>\n<polygon fill=\"#f9e79f\" stroke=\"black\" points=\"304,-36 128,-36 128,0 304,0 304,-36\"/>\n<text text-anchor=\"middle\" x=\"216\" y=\"-14.3\" font-family=\"Arial\" font-size=\"14.00\">8.1.1 Scope and Overview</text>\n</g>\n<!-- ROOT&#45;&gt;N2 -->\n<g id=\"edge2\" class=\"edge\">\n<title>ROOT-&gt;N2</title>\n<path fill=\"none\" stroke=\"black\" d=\"M4558.48,-89.78C4016.22,-88.18 798.64,-77.01 314.47,-35.99\"/>\n<polygon fill=\"black\" stroke=\"black\" points=\"314.48,-32.48 304.21,-35.08 313.86,-39.45 314.48,-32.48\"/>\n</g>\n<!-- N3 -->\n<g id=\"node4\" class=\"node\">\n<title>N3</title>\n<polygon fill=\"#f9e79f\" stroke=\"black\" points=\"691.5,-36 322.5,-36 322.5,0 691.5,0 691.5,-36\"/>\n<text text-anchor=\"middle\" x=\"507\" y=\"-14.3\" font-family=\"Arial\" font-size=\"14.00\">Importance of Water for Human Societies and Ecosystems</text>\n</g>\n<!-- ROOT&#45;&gt;N3 -->\n<g id=\"edge3\" class=\"edge\">\n<title>ROOT-&gt;N3</title>\n<path fill=\"none\" stroke=\"black\" d=\"M4558.44,-89.72C4079,-87.85 1513.31,-76.12 701.61,-36\"/>\n<polygon fill=\"black\" stroke=\"black\" points=\"701.72,-32.5 691.55,-35.49 701.37,-39.49 701.72,-32.5\"/>\n</g>\n<!-- N4 -->\n<g id=\"node5\" class=\"node\">\n<title>N4</title>\n<polygon fill=\"#f9e79f\" stroke=\"black\" points=\"1078,-36 710,-36 710,0 1078,0 1078,-36\"/>\n<text text-anchor=\"middle\" x=\"894\" y=\"-14.3\" font-family=\"Arial\" font-size=\"14.00\">Overview of the Global Water Cycle in the Climate System</text>\n</g>\n<!-- ROOT&#45;&gt;N4 -->\n<g id=\"edge4\" class=\"edge\">\n<title>ROOT-&gt;N4</title>\n<path fill=\"none\" stroke=\"black\" d=\"M4558.49,-89.59C4107.58,-87.08 1817.63,-72.72 1088.21,-36.03\"/>\n<polygon fill=\"black\" stroke=\"black\" points=\"1088.28,-32.53 1078.11,-35.52 1087.92,-39.52 1088.28,-32.53\"/>\n</g>\n<!-- N5 -->\n<g id=\"node6\" class=\"node\">\n<title>N5</title>\n<polygon fill=\"#f9e79f\" stroke=\"black\" points=\"1546,-36 1096,-36 1096,0 1546,0 1546,-36\"/>\n<text text-anchor=\"middle\" x=\"1321\" y=\"-14.3\" font-family=\"Arial\" font-size=\"14.00\">8.1.2 Summary of Water Cycle Changes From AR5 and Special Reports</text>\n</g>\n<!-- ROOT&#45;&gt;N5 -->\n<g id=\"edge5\" class=\"edge\">\n<title>ROOT-&gt;N5</title>\n<path fill=\"none\" stroke=\"black\" d=\"M4558.27,-90.21C4210.08,-90.82 2758.65,-89.87 1556.24,-36.04\"/>\n<polygon fill=\"black\" stroke=\"black\" points=\"1556.24,-32.54 1546.09,-35.58 1555.92,-39.53 1556.24,-32.54\"/>\n</g>\n<!-- N6 -->\n<g id=\"node7\" class=\"node\">\n<title>N6</title>\n<polygon fill=\"#f9e79f\" stroke=\"black\" points=\"1871.5,-36 1564.5,-36 1564.5,0 1871.5,0 1871.5,-36\"/>\n<text text-anchor=\"middle\" x=\"1718\" y=\"-14.3\" font-family=\"Arial\" font-size=\"14.00\">8.1.3 Chapter Motivations, Framing and Preview</text>\n</g>\n<!-- ROOT&#45;&gt;N6 -->\n<g id=\"edge6\" class=\"edge\">\n<title>ROOT-&gt;N6</title>\n<path fill=\"none\" stroke=\"black\" d=\"M4558.49,-89.37C4171.37,-86.06 2444.05,-69.7 1881.77,-36\"/>\n<polygon fill=\"black\" stroke=\"black\" points=\"1881.73,-32.49 1871.54,-35.38 1881.31,-39.48 1881.73,-32.49\"/>\n</g>\n<!-- N7 -->\n<g id=\"node8\" class=\"node\">\n<title>N7</title>\n<polygon fill=\"#f9e79f\" stroke=\"black\" points=\"2214,-36 1890,-36 1890,0 2214,0 2214,-36\"/>\n<text text-anchor=\"middle\" x=\"2052\" y=\"-14.3\" font-family=\"Arial\" font-size=\"14.00\">8.2 Why Should We Expect Water Cycle Changes?</text>\n</g>\n<!-- ROOT&#45;&gt;N7 -->\n<g id=\"edge7\" class=\"edge\">\n<title>ROOT-&gt;N7</title>\n<path fill=\"none\" stroke=\"black\" d=\"M4558.31,-90.43C4258.59,-91.61 3148.72,-91.79 2224.62,-36.07\"/>\n<polygon fill=\"black\" stroke=\"black\" points=\"2224.64,-32.56 2214.44,-35.45 2224.21,-39.55 2224.64,-32.56\"/>\n</g>\n<!-- N8 -->\n<g id=\"node9\" class=\"node\">\n<title>N8</title>\n<polygon fill=\"#f9e79f\" stroke=\"black\" points=\"2471.5,-36 2232.5,-36 2232.5,0 2471.5,0 2471.5,-36\"/>\n<text text-anchor=\"middle\" x=\"2352\" y=\"-14.3\" font-family=\"Arial\" font-size=\"14.00\">8.2.1 Global Water Cycle Constraints</text>\n</g>\n<!-- ROOT&#45;&gt;N8 -->\n<g id=\"edge8\" class=\"edge\">\n<title>ROOT-&gt;N8</title>\n<path fill=\"none\" stroke=\"black\" d=\"M4558.26,-89.16C4225.36,-85.38 2917.56,-68.79 2481.91,-36\"/>\n<polygon fill=\"black\" stroke=\"black\" points=\"2482.02,-32.5 2471.78,-35.22 2481.48,-39.48 2482.02,-32.5\"/>\n</g>\n<!-- N9 -->\n<g id=\"node10\" class=\"node\">\n<title>N9</title>\n<polygon fill=\"#f9e79f\" stroke=\"black\" points=\"2784,-36 2490,-36 2490,0 2784,0 2784,-36\"/>\n<text text-anchor=\"middle\" x=\"2637\" y=\"-14.3\" font-family=\"Arial\" font-size=\"14.00\">8.2.2 Constraints on the Regional Water Cycle</text>\n</g>\n<!-- ROOT&#45;&gt;N9 -->\n<g id=\"edge9\" class=\"edge\">\n<title>ROOT-&gt;N9</title>\n<path fill=\"none\" stroke=\"black\" d=\"M4558.19,-89.92C4305.38,-89.21 3484.07,-83.2 2794.5,-36.07\"/>\n<polygon fill=\"black\" stroke=\"black\" points=\"2794.58,-32.57 2784.36,-35.37 2794.1,-39.55 2794.58,-32.57\"/>\n</g>\n<!-- N10 -->\n<g id=\"node11\" class=\"node\">\n<title>N10</title>\n<polygon fill=\"#f9e79f\" stroke=\"black\" points=\"3197.5,-36 2802.5,-36 2802.5,0 3197.5,0 3197.5,-36\"/>\n<text text-anchor=\"middle\" x=\"3000\" y=\"-14.3\" font-family=\"Arial\" font-size=\"14.00\">8.2.3 Local-scale Physical Processes Affecting the Water Cycle</text>\n</g>\n<!-- ROOT&#45;&gt;N10 -->\n<g id=\"edge10\" class=\"edge\">\n<title>ROOT-&gt;N10</title>\n<path fill=\"none\" stroke=\"black\" d=\"M4558.49,-88.27C4345.03,-83.26 3730.34,-67.1 3207.76,-36.03\"/>\n<polygon fill=\"black\" stroke=\"black\" points=\"3207.94,-32.53 3197.75,-35.43 3207.53,-39.52 3207.94,-32.53\"/>\n</g>\n<!-- N11 -->\n<g id=\"node12\" class=\"node\">\n<title>N11</title>\n<polygon fill=\"#f9e79f\" stroke=\"black\" points=\"3620,-36 3216,-36 3216,0 3620,0 3620,-36\"/>\n<text text-anchor=\"middle\" x=\"3418\" y=\"-14.3\" font-family=\"Arial\" font-size=\"14.00\">Box 8.1 Role of Anthropogenic Aerosols in Water Cycle Changes</text>\n</g>\n<!-- ROOT&#45;&gt;N11 -->\n<g id=\"edge11\" class=\"edge\">\n<title>ROOT-&gt;N11</title>\n<path fill=\"none\" stroke=\"black\" d=\"M4558.26,-86.54C4390.77,-78.94 3983.17,-59.61 3630.3,-36.08\"/>\n<polygon fill=\"black\" stroke=\"black\" points=\"3630.35,-32.57 3620.14,-35.4 3629.88,-39.56 3630.35,-32.57\"/>\n</g>\n<!-- N12 -->\n<g id=\"node13\" class=\"node\">\n<title>N12</title>\n<polygon fill=\"#f9e79f\" stroke=\"black\" points=\"3945.5,-36 3638.5,-36 3638.5,0 3945.5,0 3945.5,-36\"/>\n<text text-anchor=\"middle\" x=\"3792\" y=\"-14.3\" font-family=\"Arial\" font-size=\"14.00\">8.3 How Is the Water Cycle Changing and Why?</text>\n</g>\n<!-- ROOT&#45;&gt;N12 -->\n<g id=\"edge12\" class=\"edge\">\n<title>ROOT-&gt;N12</title>\n<path fill=\"none\" stroke=\"black\" d=\"M4558.47,-84.51C4433.74,-75.53 4180.51,-56.71 3955.9,-36.16\"/>\n<polygon fill=\"black\" stroke=\"black\" points=\"3956.18,-32.68 3945.91,-35.25 3955.54,-39.65 3956.18,-32.68\"/>\n</g>\n<!-- N13 -->\n<g id=\"node14\" class=\"node\">\n<title>N13</title>\n<polygon fill=\"#f9e79f\" stroke=\"black\" points=\"4376.5,-36 3963.5,-36 3963.5,0 4376.5,0 4376.5,-36\"/>\n<text text-anchor=\"middle\" x=\"4170\" y=\"-14.3\" font-family=\"Arial\" font-size=\"14.00\">8.3.1 Observed Water Cycle Changes Based on Multiple Datasets</text>\n</g>\n<!-- ROOT&#45;&gt;N13 -->\n<g id=\"edge13\" class=\"edge\">\n<title>ROOT-&gt;N13</title>\n<path fill=\"none\" stroke=\"black\" d=\"M4558.26,-78.16C4485.73,-67.1 4376.35,-50.44 4292.15,-37.61\"/>\n<polygon fill=\"black\" stroke=\"black\" points=\"4292.42,-34.11 4282.01,-36.07 4291.37,-41.03 4292.42,-34.11\"/>\n</g>\n<!-- N14 -->\n<g id=\"node15\" class=\"node\">\n<title>N14</title>\n<polygon fill=\"#f9e79f\" stroke=\"black\" points=\"4877.5,-36 4394.5,-36 4394.5,0 4877.5,0 4877.5,-36\"/>\n<text text-anchor=\"middle\" x=\"4636\" y=\"-14.3\" font-family=\"Arial\" font-size=\"14.00\">8.3.2 Observed Variations in Large-scale Phenomena and Regional Variability</text>\n</g>\n<!-- ROOT&#45;&gt;N14 -->\n<g id=\"edge14\" class=\"edge\">\n<title>ROOT-&gt;N14</title>\n<path fill=\"none\" stroke=\"black\" d=\"M4636,-71.72C4636,-63.97 4636,-54.79 4636,-46.27\"/>\n<polygon fill=\"black\" stroke=\"black\" points=\"4639.5,-46 4636,-36 4632.5,-46 4639.5,-46\"/>\n</g>\n<!-- N15 -->\n<g id=\"node16\" class=\"node\">\n<title>N15</title>\n<polygon fill=\"#f9e79f\" stroke=\"black\" points=\"5216.5,-36 4895.5,-36 4895.5,0 5216.5,0 5216.5,-36\"/>\n<text text-anchor=\"middle\" x=\"5056\" y=\"-14.3\" font-family=\"Arial\" font-size=\"14.00\">8.4 What Are the Projected Water Cycle Changes?</text>\n</g>\n<!-- ROOT&#45;&gt;N15 -->\n<g id=\"edge15\" class=\"edge\">\n<title>ROOT-&gt;N15</title>\n<path fill=\"none\" stroke=\"black\" d=\"M4713.52,-76.89C4778.49,-65.91 4872.06,-50.09 4944.98,-37.77\"/>\n<polygon fill=\"black\" stroke=\"black\" points=\"4945.85,-41.17 4955.13,-36.05 4944.68,-34.27 4945.85,-41.17\"/>\n</g>\n<!-- N16 -->\n<g id=\"node17\" class=\"node\">\n<title>N16</title>\n<polygon fill=\"#f9e79f\" stroke=\"black\" points=\"5477,-36 5235,-36 5235,0 5477,0 5477,-36\"/>\n<text text-anchor=\"middle\" x=\"5356\" y=\"-14.3\" font-family=\"Arial\" font-size=\"14.00\">8.4.1 Projected Water Cycle Changes</text>\n</g>\n<!-- ROOT&#45;&gt;N16 -->\n<g id=\"edge16\" class=\"edge\">\n<title>ROOT-&gt;N16</title>\n<path fill=\"none\" stroke=\"black\" d=\"M4713.88,-83.84C4824.88,-74.84 5035.2,-57 5224.77,-36.11\"/>\n<polygon fill=\"black\" stroke=\"black\" points=\"5225.37,-39.57 5234.92,-34.99 5224.6,-32.61 5225.37,-39.57\"/>\n</g>\n<!-- N17 -->\n<g id=\"node18\" class=\"node\">\n<title>N17</title>\n<polygon fill=\"#f9e79f\" stroke=\"black\" points=\"5780.5,-36 5495.5,-36 5495.5,0 5780.5,0 5780.5,-36\"/>\n<text text-anchor=\"middle\" x=\"5638\" y=\"-14.3\" font-family=\"Arial\" font-size=\"14.00\">Box 8.2 Changes in Water Cycle Seasonality</text>\n</g>\n<!-- ROOT&#45;&gt;N17 -->\n<g id=\"edge17\" class=\"edge\">\n<title>ROOT-&gt;N17</title>\n<path fill=\"none\" stroke=\"black\" d=\"M4713.74,-86.31C4861.64,-79.02 5193.98,-61.32 5484.89,-36.07\"/>\n<polygon fill=\"black\" stroke=\"black\" points=\"5485.56,-39.53 5495.22,-35.17 5484.95,-32.55 5485.56,-39.53\"/>\n</g>\n<!-- N18 -->\n<g id=\"node19\" class=\"node\">\n<title>N18</title>\n<polygon fill=\"#f9e79f\" stroke=\"black\" points=\"6275,-36 5799,-36 5799,0 6275,0 6275,-36\"/>\n<text text-anchor=\"middle\" x=\"6037\" y=\"-14.3\" font-family=\"Arial\" font-size=\"14.00\">8.4.2 Projected Changes in Large-scale Phenomena and Regional Variability</text>\n</g>\n<!-- ROOT&#45;&gt;N18 -->\n<g id=\"edge18\" class=\"edge\">\n<title>ROOT-&gt;N18</title>\n<path fill=\"none\" stroke=\"black\" d=\"M4713.7,-86.95C4898.16,-79.59 5377.23,-59.73 5788.73,-36.07\"/>\n<polygon fill=\"black\" stroke=\"black\" points=\"5788.96,-39.56 5798.74,-35.49 5788.56,-32.57 5788.96,-39.56\"/>\n</g>\n<!-- N19 -->\n<g id=\"node20\" class=\"node\">\n<title>N19</title>\n<polygon fill=\"#f9e79f\" stroke=\"black\" points=\"6676.5,-36 6293.5,-36 6293.5,0 6676.5,0 6676.5,-36\"/>\n<text text-anchor=\"middle\" x=\"6485\" y=\"-14.3\" font-family=\"Arial\" font-size=\"14.00\">8.5 What Are the Limits for Projecting Water Cycle Changes?</text>\n</g>\n<!-- ROOT&#45;&gt;N19 -->\n<g id=\"edge19\" class=\"edge\">\n<title>ROOT-&gt;N19</title>\n<path fill=\"none\" stroke=\"black\" d=\"M4713.71,-88.88C4948.55,-85.18 5671.76,-71.57 6282.91,-36.04\"/>\n<polygon fill=\"black\" stroke=\"black\" points=\"6283.47,-39.52 6293.25,-35.44 6283.06,-32.53 6283.47,-39.52\"/>\n</g>\n<!-- N20 -->\n<g id=\"node21\" class=\"node\">\n<title>N20</title>\n<polygon fill=\"#f9e79f\" stroke=\"black\" points=\"7066,-36 6694,-36 6694,0 7066,0 7066,-36\"/>\n<text text-anchor=\"middle\" x=\"6880\" y=\"-14.3\" font-family=\"Arial\" font-size=\"14.00\">8.5.1 Model Uncertainties of Relevance for the Water Cycle</text>\n</g>\n<!-- ROOT&#45;&gt;N20 -->\n<g id=\"edge20\" class=\"edge\">\n<title>ROOT-&gt;N20</title>\n<path fill=\"none\" stroke=\"black\" d=\"M4713.8,-89.66C4984.37,-88.12 5909.6,-79.81 6683.66,-36.11\"/>\n<polygon fill=\"black\" stroke=\"black\" points=\"6684.12,-39.59 6693.9,-35.53 6683.72,-32.61 6684.12,-39.59\"/>\n</g>\n<!-- N21 -->\n<g id=\"node22\" class=\"node\">\n<title>N21</title>\n<polygon fill=\"#f9e79f\" stroke=\"black\" points=\"7416,-36 7084,-36 7084,0 7416,0 7416,-36\"/>\n<text text-anchor=\"middle\" x=\"7250\" y=\"-14.3\" font-family=\"Arial\" font-size=\"14.00\">8.5.2 Role of Internal Variability and Volcanic Forcing</text>\n</g>\n<!-- ROOT&#45;&gt;N21 -->\n<g id=\"edge21\" class=\"edge\">\n<title>ROOT-&gt;N21</title>\n<path fill=\"none\" stroke=\"black\" d=\"M4713.75,-90.39C5015.53,-91.46 6138.44,-91.29 7073.45,-36.06\"/>\n<polygon fill=\"black\" stroke=\"black\" points=\"7073.98,-39.54 7083.76,-35.45 7073.57,-32.55 7073.98,-39.54\"/>\n</g>\n<!-- N22 -->\n<g id=\"node23\" class=\"node\">\n<title>N22</title>\n<polygon fill=\"#f9e79f\" stroke=\"black\" points=\"7760,-36 7434,-36 7434,0 7760,0 7760,-36\"/>\n<text text-anchor=\"middle\" x=\"7597\" y=\"-14.3\" font-family=\"Arial\" font-size=\"14.00\">8.5.3 Non-linearities Across Global Warming Levels</text>\n</g>\n<!-- ROOT&#45;&gt;N22 -->\n<g id=\"edge22\" class=\"edge\">\n<title>ROOT-&gt;N22</title>\n<path fill=\"none\" stroke=\"black\" d=\"M4713.81,-89.33C5104.4,-85.83 6854.58,-68.6 7423.27,-36.07\"/>\n<polygon fill=\"black\" stroke=\"black\" points=\"7423.83,-39.54 7433.61,-35.46 7423.42,-32.55 7423.83,-39.54\"/>\n</g>\n<!-- N23 -->\n<g id=\"node24\" class=\"node\">\n<title>N23</title>\n<polygon fill=\"#f9e79f\" stroke=\"black\" points=\"8063.5,-36 7778.5,-36 7778.5,0 8063.5,0 8063.5,-36\"/>\n<text text-anchor=\"middle\" x=\"7921\" y=\"-14.3\" font-family=\"Arial\" font-size=\"14.00\">8.6 What Is the Potential for Abrupt Change?</text>\n</g>\n<!-- ROOT&#45;&gt;N23 -->\n<g id=\"edge23\" class=\"edge\">\n<title>ROOT-&gt;N23</title>\n<path fill=\"none\" stroke=\"black\" d=\"M4713.83,-89.65C5133.04,-87.64 7126.51,-76.11 7767.96,-36.02\"/>\n<polygon fill=\"black\" stroke=\"black\" points=\"7768.47,-39.49 7778.23,-35.36 7768.03,-32.5 7768.47,-39.49\"/>\n</g>\n<!-- N24 -->\n<g id=\"node25\" class=\"node\">\n<title>N24</title>\n<polygon fill=\"#f9e79f\" stroke=\"black\" points=\"8462,-36 8082,-36 8082,0 8462,0 8462,-36\"/>\n<text text-anchor=\"middle\" x=\"8272\" y=\"-14.3\" font-family=\"Arial\" font-size=\"14.00\">8.6.1 Abrupt Water Cycle Responses to a Collapse of AMOC</text>\n</g>\n<!-- ROOT&#45;&gt;N24 -->\n<g id=\"edge24\" class=\"edge\">\n<title>ROOT-&gt;N24</title>\n<path fill=\"none\" stroke=\"black\" d=\"M4713.58,-89.52C5156.13,-86.64 7366.21,-70.78 8071.87,-36.03\"/>\n<polygon fill=\"black\" stroke=\"black\" points=\"8072.08,-39.52 8081.9,-35.53 8071.74,-32.53 8072.08,-39.52\"/>\n</g>\n<!-- N25 -->\n<g id=\"node26\" class=\"node\">\n<title>N25</title>\n<polygon fill=\"#f9e79f\" stroke=\"black\" points=\"8834,-36 8480,-36 8480,0 8834,0 8834,-36\"/>\n<text text-anchor=\"middle\" x=\"8657\" y=\"-14.3\" font-family=\"Arial\" font-size=\"14.00\">8.6.2 Abrupt Responses to Changes in the Land Surface</text>\n</g>\n<!-- ROOT&#45;&gt;N25 -->\n<g id=\"edge25\" class=\"edge\">\n<title>ROOT-&gt;N25</title>\n<path fill=\"none\" stroke=\"black\" d=\"M4713.5,-89.72C5185.57,-87.92 7679.89,-76.63 8469.74,-36.03\"/>\n<polygon fill=\"black\" stroke=\"black\" points=\"8470.01,-39.52 8479.81,-35.51 8469.64,-32.53 8470.01,-39.52\"/>\n</g>\n<!-- N26 -->\n<g id=\"node27\" class=\"node\">\n<title>N26</title>\n<polygon fill=\"#f9e79f\" stroke=\"black\" points=\"9200,-36 8852,-36 8852,0 9200,0 9200,-36\"/>\n<text text-anchor=\"middle\" x=\"9026\" y=\"-14.3\" font-family=\"Arial\" font-size=\"14.00\">8.6.3 Abrupt Responses to Solar Radiation Modification</text>\n</g>\n<!-- ROOT&#45;&gt;N26 -->\n<g id=\"edge26\" class=\"edge\">\n<title>ROOT-&gt;N26</title>\n<path fill=\"none\" stroke=\"black\" d=\"M4713.6,-89.85C5212.3,-88.77 7972.9,-80.84 8841.54,-36.04\"/>\n<polygon fill=\"black\" stroke=\"black\" points=\"8841.87,-39.53 8851.67,-35.52 8841.5,-32.54 8841.87,-39.53\"/>\n</g>\n<!-- N27 -->\n<g id=\"node28\" class=\"node\">\n<title>N27</title>\n<polygon fill=\"#f9e79f\" stroke=\"black\" points=\"9345.5,-36 9218.5,-36 9218.5,0 9345.5,0 9345.5,-36\"/>\n<text text-anchor=\"middle\" x=\"9282\" y=\"-14.3\" font-family=\"Arial\" font-size=\"14.00\">8.7 Final Remarks</text>\n</g>\n<!-- ROOT&#45;&gt;N27 -->\n<g id=\"edge27\" class=\"edge\">\n<title>ROOT-&gt;N27</title>\n<path fill=\"none\" stroke=\"black\" d=\"M4713.92,-90.1C5275.64,-90.68 8698.65,-91.96 9208.34,-35.82\"/>\n<polygon fill=\"black\" stroke=\"black\" points=\"9208.91,-39.28 9218.44,-34.66 9208.11,-32.33 9208.91,-39.28\"/>\n</g>\n</g>\n</svg>"
          },
          "metadata": {},
          "execution_count": 3
        }
      ]
    }
  ]
}